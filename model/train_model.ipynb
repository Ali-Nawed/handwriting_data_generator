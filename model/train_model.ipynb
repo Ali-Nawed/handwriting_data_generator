{
 "cells": [
  {
   "cell_type": "code",
   "execution_count": 1,
   "metadata": {},
   "outputs": [],
   "source": [
    "from backbone_cnn import BackboneNet\n",
    "import torch.nn.functional as F\n",
    "import torch\n",
    "import torchvision\n",
    "import matplotlib.pyplot as plt\n",
    "import numpy as np"
   ]
  },
  {
   "cell_type": "code",
   "execution_count": 2,
   "metadata": {},
   "outputs": [
    {
     "data": {
      "text/plain": [
       "<torch._C.Generator at 0x7f76f580f690>"
      ]
     },
     "execution_count": 2,
     "metadata": {},
     "output_type": "execute_result"
    }
   ],
   "source": [
    "n_epochs = 3\n",
    "batch_size_train = 100\n",
    "batch_size_test = 1000\n",
    "learning_rate = 0.01\n",
    "momentum = 0.5\n",
    "log_interval = 10\n",
    "\n",
    "random_seed = 1\n",
    "torch.backends.cudnn.enabled = True\n",
    "torch.manual_seed(random_seed)"
   ]
  },
  {
   "cell_type": "code",
   "execution_count": 3,
   "metadata": {},
   "outputs": [],
   "source": [
    "train_loader = torch.utils.data.DataLoader(\n",
    "  torchvision.datasets.MNIST('../data/', train=True, download=True,\n",
    "                             transform=torchvision.transforms.Compose([\n",
    "                               torchvision.transforms.ToTensor(),\n",
    "                               torchvision.transforms.Normalize(\n",
    "                                 (0.1307,), (0.3081,))\n",
    "                             ])),\n",
    "  batch_size=batch_size_train, shuffle=True)\n",
    "\n",
    "test_loader = torch.utils.data.DataLoader(\n",
    "  torchvision.datasets.MNIST('../data/', train=False, download=True,\n",
    "                             transform=torchvision.transforms.Compose([\n",
    "                               torchvision.transforms.ToTensor(),\n",
    "                               torchvision.transforms.Normalize(\n",
    "                                 (0.1307,), (0.3081,))\n",
    "                             ])),\n",
    "  batch_size=batch_size_test, shuffle=False)"
   ]
  },
  {
   "cell_type": "code",
   "execution_count": 4,
   "metadata": {},
   "outputs": [],
   "source": [
    "import torch.optim as optim\n",
    "import torch.nn as nn\n",
    "from tqdm import tqdm"
   ]
  },
  {
   "cell_type": "code",
   "execution_count": 5,
   "metadata": {},
   "outputs": [],
   "source": [
    "net = BackboneNet()\n",
    "optimizer = optim.Adam(net.parameters(), lr=0.001)"
   ]
  },
  {
   "cell_type": "code",
   "execution_count": 6,
   "metadata": {},
   "outputs": [
    {
     "name": "stderr",
     "output_type": "stream",
     "text": [
      "0it [00:00, ?it/s]/home/ali/ml/handwriting_data_generator/model/backbone_cnn.py:29: UserWarning: Implicit dimension choice for log_softmax has been deprecated. Change the call to include dim=X as an argument.\n",
      "  return F.log_softmax(x)\n",
      "600it [00:53, 11.14it/s]\n",
      "1it [00:00,  9.84it/s]"
     ]
    },
    {
     "name": "stdout",
     "output_type": "stream",
     "text": [
      "epoch: 0 loss: 0.11841829121112823\n"
     ]
    },
    {
     "name": "stderr",
     "output_type": "stream",
     "text": [
      "600it [00:56, 10.59it/s]\n",
      "2it [00:00, 10.38it/s]"
     ]
    },
    {
     "name": "stdout",
     "output_type": "stream",
     "text": [
      "epoch: 1 loss: 0.0481337308883667\n"
     ]
    },
    {
     "name": "stderr",
     "output_type": "stream",
     "text": [
      "600it [00:53, 11.31it/s]\n",
      "2it [00:00, 11.35it/s]"
     ]
    },
    {
     "name": "stdout",
     "output_type": "stream",
     "text": [
      "epoch: 2 loss: 0.0015508882934227586\n"
     ]
    },
    {
     "name": "stderr",
     "output_type": "stream",
     "text": [
      "600it [00:52, 11.44it/s]\n",
      "2it [00:00, 10.79it/s]"
     ]
    },
    {
     "name": "stdout",
     "output_type": "stream",
     "text": [
      "epoch: 3 loss: 0.013898936100304127\n"
     ]
    },
    {
     "name": "stderr",
     "output_type": "stream",
     "text": [
      "600it [00:53, 11.17it/s]\n",
      "1it [00:00,  9.32it/s]"
     ]
    },
    {
     "name": "stdout",
     "output_type": "stream",
     "text": [
      "epoch: 4 loss: 0.01532298419624567\n"
     ]
    },
    {
     "name": "stderr",
     "output_type": "stream",
     "text": [
      "600it [00:52, 11.35it/s]\n",
      "2it [00:00, 11.03it/s]"
     ]
    },
    {
     "name": "stdout",
     "output_type": "stream",
     "text": [
      "epoch: 5 loss: 0.0029748689848929644\n"
     ]
    },
    {
     "name": "stderr",
     "output_type": "stream",
     "text": [
      "600it [00:53, 11.28it/s]\n",
      "1it [00:00,  9.78it/s]"
     ]
    },
    {
     "name": "stdout",
     "output_type": "stream",
     "text": [
      "epoch: 6 loss: 0.002488982630893588\n"
     ]
    },
    {
     "name": "stderr",
     "output_type": "stream",
     "text": [
      "600it [00:52, 11.37it/s]\n",
      "1it [00:00,  9.97it/s]"
     ]
    },
    {
     "name": "stdout",
     "output_type": "stream",
     "text": [
      "epoch: 7 loss: 0.03492874279618263\n"
     ]
    },
    {
     "name": "stderr",
     "output_type": "stream",
     "text": [
      "600it [00:52, 11.40it/s]\n",
      "1it [00:00,  9.88it/s]"
     ]
    },
    {
     "name": "stdout",
     "output_type": "stream",
     "text": [
      "epoch: 8 loss: 0.009917395189404488\n"
     ]
    },
    {
     "name": "stderr",
     "output_type": "stream",
     "text": [
      "600it [00:52, 11.41it/s]"
     ]
    },
    {
     "name": "stdout",
     "output_type": "stream",
     "text": [
      "epoch: 9 loss: 0.0010756965493783355\n"
     ]
    },
    {
     "name": "stderr",
     "output_type": "stream",
     "text": [
      "\n"
     ]
    }
   ],
   "source": [
    "running_loss = 0.0\n",
    "for epoch in range(10):\n",
    "    \n",
    "    for idx, (data, target) in tqdm(enumerate(train_loader)):\n",
    "        \n",
    "        optimizer.zero_grad()\n",
    "        output = net(data)\n",
    "        loss =  F.nll_loss(output, target) \n",
    "        loss.backward()\n",
    "        optimizer.step()\n",
    "    print(f\"epoch: {epoch} loss: {loss.item()}\")"
   ]
  },
  {
   "cell_type": "code",
   "execution_count": 16,
   "metadata": {},
   "outputs": [
    {
     "data": {
      "text/plain": [
       "0.0010756965493783355"
      ]
     },
     "execution_count": 16,
     "metadata": {},
     "output_type": "execute_result"
    }
   ],
   "source": [
    "loss.item()"
   ]
  },
  {
   "cell_type": "code",
   "execution_count": 17,
   "metadata": {},
   "outputs": [
    {
     "data": {
      "text/plain": [
       "0"
      ]
     },
     "execution_count": 17,
     "metadata": {},
     "output_type": "execute_result"
    }
   ],
   "source": [
    "torch.cuda.current_device()"
   ]
  },
  {
   "cell_type": "code",
   "execution_count": 18,
   "metadata": {},
   "outputs": [
    {
     "data": {
      "text/plain": [
       "BackboneNet(\n",
       "  (conv1): Conv2d(1, 32, kernel_size=(5, 5), stride=(1, 1), padding=(2, 2))\n",
       "  (pool): MaxPool2d(kernel_size=2, stride=2, padding=0, dilation=1, ceil_mode=False)\n",
       "  (conv2): Conv2d(32, 64, kernel_size=(5, 5), stride=(1, 1), padding=(2, 2))\n",
       "  (conv2_drop): Dropout2d(p=0.5, inplace=False)\n",
       "  (fc1): Linear(in_features=3136, out_features=50, bias=True)\n",
       "  (fc2): Linear(in_features=50, out_features=10, bias=True)\n",
       ")"
      ]
     },
     "execution_count": 18,
     "metadata": {},
     "output_type": "execute_result"
    }
   ],
   "source": [
    "net.eval()"
   ]
  },
  {
   "cell_type": "code",
   "execution_count": 19,
   "metadata": {},
   "outputs": [
    {
     "name": "stdout",
     "output_type": "stream",
     "text": [
      "0.991\n",
      "0.986\n",
      "0.982\n",
      "0.991\n",
      "0.989\n",
      "0.996\n",
      "0.995\n",
      "1.0\n",
      "0.998\n",
      "0.996\n"
     ]
    }
   ],
   "source": [
    "def test(mynet):\n",
    "    for data,target in test_loader:\n",
    "        x=mynet(data).data.argmax(1).eq(target).sum()\n",
    "        print(x.item()/len(target))\n",
    "test(net)"
   ]
  },
  {
   "cell_type": "code",
   "execution_count": 20,
   "metadata": {},
   "outputs": [],
   "source": [
    "torch.save(net.state_dict(), 'backbone_net')"
   ]
  },
  {
   "cell_type": "code",
   "execution_count": 21,
   "metadata": {},
   "outputs": [],
   "source": [
    "new_net = BackboneNet()"
   ]
  },
  {
   "cell_type": "code",
   "execution_count": 22,
   "metadata": {},
   "outputs": [
    {
     "name": "stdout",
     "output_type": "stream",
     "text": [
      "0.108\n",
      "0.117\n",
      "0.121\n",
      "0.101\n",
      "0.094\n",
      "0.118\n",
      "0.128\n",
      "0.139\n",
      "0.124\n",
      "0.139\n"
     ]
    }
   ],
   "source": [
    "test(new_net)"
   ]
  },
  {
   "cell_type": "code",
   "execution_count": 23,
   "metadata": {},
   "outputs": [
    {
     "data": {
      "text/plain": [
       "<All keys matched successfully>"
      ]
     },
     "execution_count": 23,
     "metadata": {},
     "output_type": "execute_result"
    }
   ],
   "source": [
    "new_net.load_state_dict(torch.load('backbone_net'))"
   ]
  },
  {
   "cell_type": "code",
   "execution_count": 24,
   "metadata": {},
   "outputs": [
    {
     "name": "stdout",
     "output_type": "stream",
     "text": [
      "0.991\n",
      "0.986\n",
      "0.982\n",
      "0.991\n",
      "0.989\n",
      "0.996\n",
      "0.995\n",
      "1.0\n",
      "0.998\n",
      "0.996\n"
     ]
    }
   ],
   "source": [
    "test(new_net)"
   ]
  },
  {
   "cell_type": "code",
   "execution_count": 38,
   "metadata": {},
   "outputs": [
    {
     "data": {
      "text/plain": [
       "BackboneNet(\n",
       "  (conv1): Conv2d(1, 32, kernel_size=(5, 5), stride=(1, 1), padding=(2, 2))\n",
       "  (pool): MaxPool2d(kernel_size=2, stride=2, padding=0, dilation=1, ceil_mode=False)\n",
       "  (conv2): Conv2d(32, 64, kernel_size=(5, 5), stride=(1, 1), padding=(2, 2))\n",
       "  (conv2_drop): Dropout2d(p=0.5, inplace=False)\n",
       "  (fc1): Linear(in_features=3136, out_features=50, bias=True)\n",
       "  (fc2): Linear(in_features=50, out_features=10, bias=True)\n",
       ")"
      ]
     },
     "execution_count": 38,
     "metadata": {},
     "output_type": "execute_result"
    }
   ],
   "source": [
    "net.eval()"
   ]
  },
  {
   "cell_type": "code",
   "execution_count": 28,
   "metadata": {},
   "outputs": [
    {
     "data": {
      "text/plain": [
       "Conv2d(1, 32, kernel_size=(5, 5), stride=(1, 1), padding=(2, 2))"
      ]
     },
     "execution_count": 28,
     "metadata": {},
     "output_type": "execute_result"
    }
   ],
   "source": [
    "net.conv1"
   ]
  },
  {
   "cell_type": "code",
   "execution_count": 29,
   "metadata": {},
   "outputs": [
    {
     "name": "stderr",
     "output_type": "stream",
     "text": [
      "Downloading: \"https://download.pytorch.org/models/mobilenet_v2-b0353104.pth\" to /home/ali/.cache/torch/checkpoints/mobilenet_v2-b0353104.pth\n",
      "100%|██████████| 13.6M/13.6M [00:02<00:00, 5.02MB/s]\n"
     ]
    }
   ],
   "source": [
    "backbone = torchvision.models.mobilenet_v2(pretrained=True).features"
   ]
  },
  {
   "cell_type": "code",
   "execution_count": 30,
   "metadata": {},
   "outputs": [
    {
     "data": {
      "text/plain": [
       "Sequential(\n",
       "  (0): ConvBNReLU(\n",
       "    (0): Conv2d(3, 32, kernel_size=(3, 3), stride=(2, 2), padding=(1, 1), bias=False)\n",
       "    (1): BatchNorm2d(32, eps=1e-05, momentum=0.1, affine=True, track_running_stats=True)\n",
       "    (2): ReLU6(inplace=True)\n",
       "  )\n",
       "  (1): InvertedResidual(\n",
       "    (conv): Sequential(\n",
       "      (0): ConvBNReLU(\n",
       "        (0): Conv2d(32, 32, kernel_size=(3, 3), stride=(1, 1), padding=(1, 1), groups=32, bias=False)\n",
       "        (1): BatchNorm2d(32, eps=1e-05, momentum=0.1, affine=True, track_running_stats=True)\n",
       "        (2): ReLU6(inplace=True)\n",
       "      )\n",
       "      (1): Conv2d(32, 16, kernel_size=(1, 1), stride=(1, 1), bias=False)\n",
       "      (2): BatchNorm2d(16, eps=1e-05, momentum=0.1, affine=True, track_running_stats=True)\n",
       "    )\n",
       "  )\n",
       "  (2): InvertedResidual(\n",
       "    (conv): Sequential(\n",
       "      (0): ConvBNReLU(\n",
       "        (0): Conv2d(16, 96, kernel_size=(1, 1), stride=(1, 1), bias=False)\n",
       "        (1): BatchNorm2d(96, eps=1e-05, momentum=0.1, affine=True, track_running_stats=True)\n",
       "        (2): ReLU6(inplace=True)\n",
       "      )\n",
       "      (1): ConvBNReLU(\n",
       "        (0): Conv2d(96, 96, kernel_size=(3, 3), stride=(2, 2), padding=(1, 1), groups=96, bias=False)\n",
       "        (1): BatchNorm2d(96, eps=1e-05, momentum=0.1, affine=True, track_running_stats=True)\n",
       "        (2): ReLU6(inplace=True)\n",
       "      )\n",
       "      (2): Conv2d(96, 24, kernel_size=(1, 1), stride=(1, 1), bias=False)\n",
       "      (3): BatchNorm2d(24, eps=1e-05, momentum=0.1, affine=True, track_running_stats=True)\n",
       "    )\n",
       "  )\n",
       "  (3): InvertedResidual(\n",
       "    (conv): Sequential(\n",
       "      (0): ConvBNReLU(\n",
       "        (0): Conv2d(24, 144, kernel_size=(1, 1), stride=(1, 1), bias=False)\n",
       "        (1): BatchNorm2d(144, eps=1e-05, momentum=0.1, affine=True, track_running_stats=True)\n",
       "        (2): ReLU6(inplace=True)\n",
       "      )\n",
       "      (1): ConvBNReLU(\n",
       "        (0): Conv2d(144, 144, kernel_size=(3, 3), stride=(1, 1), padding=(1, 1), groups=144, bias=False)\n",
       "        (1): BatchNorm2d(144, eps=1e-05, momentum=0.1, affine=True, track_running_stats=True)\n",
       "        (2): ReLU6(inplace=True)\n",
       "      )\n",
       "      (2): Conv2d(144, 24, kernel_size=(1, 1), stride=(1, 1), bias=False)\n",
       "      (3): BatchNorm2d(24, eps=1e-05, momentum=0.1, affine=True, track_running_stats=True)\n",
       "    )\n",
       "  )\n",
       "  (4): InvertedResidual(\n",
       "    (conv): Sequential(\n",
       "      (0): ConvBNReLU(\n",
       "        (0): Conv2d(24, 144, kernel_size=(1, 1), stride=(1, 1), bias=False)\n",
       "        (1): BatchNorm2d(144, eps=1e-05, momentum=0.1, affine=True, track_running_stats=True)\n",
       "        (2): ReLU6(inplace=True)\n",
       "      )\n",
       "      (1): ConvBNReLU(\n",
       "        (0): Conv2d(144, 144, kernel_size=(3, 3), stride=(2, 2), padding=(1, 1), groups=144, bias=False)\n",
       "        (1): BatchNorm2d(144, eps=1e-05, momentum=0.1, affine=True, track_running_stats=True)\n",
       "        (2): ReLU6(inplace=True)\n",
       "      )\n",
       "      (2): Conv2d(144, 32, kernel_size=(1, 1), stride=(1, 1), bias=False)\n",
       "      (3): BatchNorm2d(32, eps=1e-05, momentum=0.1, affine=True, track_running_stats=True)\n",
       "    )\n",
       "  )\n",
       "  (5): InvertedResidual(\n",
       "    (conv): Sequential(\n",
       "      (0): ConvBNReLU(\n",
       "        (0): Conv2d(32, 192, kernel_size=(1, 1), stride=(1, 1), bias=False)\n",
       "        (1): BatchNorm2d(192, eps=1e-05, momentum=0.1, affine=True, track_running_stats=True)\n",
       "        (2): ReLU6(inplace=True)\n",
       "      )\n",
       "      (1): ConvBNReLU(\n",
       "        (0): Conv2d(192, 192, kernel_size=(3, 3), stride=(1, 1), padding=(1, 1), groups=192, bias=False)\n",
       "        (1): BatchNorm2d(192, eps=1e-05, momentum=0.1, affine=True, track_running_stats=True)\n",
       "        (2): ReLU6(inplace=True)\n",
       "      )\n",
       "      (2): Conv2d(192, 32, kernel_size=(1, 1), stride=(1, 1), bias=False)\n",
       "      (3): BatchNorm2d(32, eps=1e-05, momentum=0.1, affine=True, track_running_stats=True)\n",
       "    )\n",
       "  )\n",
       "  (6): InvertedResidual(\n",
       "    (conv): Sequential(\n",
       "      (0): ConvBNReLU(\n",
       "        (0): Conv2d(32, 192, kernel_size=(1, 1), stride=(1, 1), bias=False)\n",
       "        (1): BatchNorm2d(192, eps=1e-05, momentum=0.1, affine=True, track_running_stats=True)\n",
       "        (2): ReLU6(inplace=True)\n",
       "      )\n",
       "      (1): ConvBNReLU(\n",
       "        (0): Conv2d(192, 192, kernel_size=(3, 3), stride=(1, 1), padding=(1, 1), groups=192, bias=False)\n",
       "        (1): BatchNorm2d(192, eps=1e-05, momentum=0.1, affine=True, track_running_stats=True)\n",
       "        (2): ReLU6(inplace=True)\n",
       "      )\n",
       "      (2): Conv2d(192, 32, kernel_size=(1, 1), stride=(1, 1), bias=False)\n",
       "      (3): BatchNorm2d(32, eps=1e-05, momentum=0.1, affine=True, track_running_stats=True)\n",
       "    )\n",
       "  )\n",
       "  (7): InvertedResidual(\n",
       "    (conv): Sequential(\n",
       "      (0): ConvBNReLU(\n",
       "        (0): Conv2d(32, 192, kernel_size=(1, 1), stride=(1, 1), bias=False)\n",
       "        (1): BatchNorm2d(192, eps=1e-05, momentum=0.1, affine=True, track_running_stats=True)\n",
       "        (2): ReLU6(inplace=True)\n",
       "      )\n",
       "      (1): ConvBNReLU(\n",
       "        (0): Conv2d(192, 192, kernel_size=(3, 3), stride=(2, 2), padding=(1, 1), groups=192, bias=False)\n",
       "        (1): BatchNorm2d(192, eps=1e-05, momentum=0.1, affine=True, track_running_stats=True)\n",
       "        (2): ReLU6(inplace=True)\n",
       "      )\n",
       "      (2): Conv2d(192, 64, kernel_size=(1, 1), stride=(1, 1), bias=False)\n",
       "      (3): BatchNorm2d(64, eps=1e-05, momentum=0.1, affine=True, track_running_stats=True)\n",
       "    )\n",
       "  )\n",
       "  (8): InvertedResidual(\n",
       "    (conv): Sequential(\n",
       "      (0): ConvBNReLU(\n",
       "        (0): Conv2d(64, 384, kernel_size=(1, 1), stride=(1, 1), bias=False)\n",
       "        (1): BatchNorm2d(384, eps=1e-05, momentum=0.1, affine=True, track_running_stats=True)\n",
       "        (2): ReLU6(inplace=True)\n",
       "      )\n",
       "      (1): ConvBNReLU(\n",
       "        (0): Conv2d(384, 384, kernel_size=(3, 3), stride=(1, 1), padding=(1, 1), groups=384, bias=False)\n",
       "        (1): BatchNorm2d(384, eps=1e-05, momentum=0.1, affine=True, track_running_stats=True)\n",
       "        (2): ReLU6(inplace=True)\n",
       "      )\n",
       "      (2): Conv2d(384, 64, kernel_size=(1, 1), stride=(1, 1), bias=False)\n",
       "      (3): BatchNorm2d(64, eps=1e-05, momentum=0.1, affine=True, track_running_stats=True)\n",
       "    )\n",
       "  )\n",
       "  (9): InvertedResidual(\n",
       "    (conv): Sequential(\n",
       "      (0): ConvBNReLU(\n",
       "        (0): Conv2d(64, 384, kernel_size=(1, 1), stride=(1, 1), bias=False)\n",
       "        (1): BatchNorm2d(384, eps=1e-05, momentum=0.1, affine=True, track_running_stats=True)\n",
       "        (2): ReLU6(inplace=True)\n",
       "      )\n",
       "      (1): ConvBNReLU(\n",
       "        (0): Conv2d(384, 384, kernel_size=(3, 3), stride=(1, 1), padding=(1, 1), groups=384, bias=False)\n",
       "        (1): BatchNorm2d(384, eps=1e-05, momentum=0.1, affine=True, track_running_stats=True)\n",
       "        (2): ReLU6(inplace=True)\n",
       "      )\n",
       "      (2): Conv2d(384, 64, kernel_size=(1, 1), stride=(1, 1), bias=False)\n",
       "      (3): BatchNorm2d(64, eps=1e-05, momentum=0.1, affine=True, track_running_stats=True)\n",
       "    )\n",
       "  )\n",
       "  (10): InvertedResidual(\n",
       "    (conv): Sequential(\n",
       "      (0): ConvBNReLU(\n",
       "        (0): Conv2d(64, 384, kernel_size=(1, 1), stride=(1, 1), bias=False)\n",
       "        (1): BatchNorm2d(384, eps=1e-05, momentum=0.1, affine=True, track_running_stats=True)\n",
       "        (2): ReLU6(inplace=True)\n",
       "      )\n",
       "      (1): ConvBNReLU(\n",
       "        (0): Conv2d(384, 384, kernel_size=(3, 3), stride=(1, 1), padding=(1, 1), groups=384, bias=False)\n",
       "        (1): BatchNorm2d(384, eps=1e-05, momentum=0.1, affine=True, track_running_stats=True)\n",
       "        (2): ReLU6(inplace=True)\n",
       "      )\n",
       "      (2): Conv2d(384, 64, kernel_size=(1, 1), stride=(1, 1), bias=False)\n",
       "      (3): BatchNorm2d(64, eps=1e-05, momentum=0.1, affine=True, track_running_stats=True)\n",
       "    )\n",
       "  )\n",
       "  (11): InvertedResidual(\n",
       "    (conv): Sequential(\n",
       "      (0): ConvBNReLU(\n",
       "        (0): Conv2d(64, 384, kernel_size=(1, 1), stride=(1, 1), bias=False)\n",
       "        (1): BatchNorm2d(384, eps=1e-05, momentum=0.1, affine=True, track_running_stats=True)\n",
       "        (2): ReLU6(inplace=True)\n",
       "      )\n",
       "      (1): ConvBNReLU(\n",
       "        (0): Conv2d(384, 384, kernel_size=(3, 3), stride=(1, 1), padding=(1, 1), groups=384, bias=False)\n",
       "        (1): BatchNorm2d(384, eps=1e-05, momentum=0.1, affine=True, track_running_stats=True)\n",
       "        (2): ReLU6(inplace=True)\n",
       "      )\n",
       "      (2): Conv2d(384, 96, kernel_size=(1, 1), stride=(1, 1), bias=False)\n",
       "      (3): BatchNorm2d(96, eps=1e-05, momentum=0.1, affine=True, track_running_stats=True)\n",
       "    )\n",
       "  )\n",
       "  (12): InvertedResidual(\n",
       "    (conv): Sequential(\n",
       "      (0): ConvBNReLU(\n",
       "        (0): Conv2d(96, 576, kernel_size=(1, 1), stride=(1, 1), bias=False)\n",
       "        (1): BatchNorm2d(576, eps=1e-05, momentum=0.1, affine=True, track_running_stats=True)\n",
       "        (2): ReLU6(inplace=True)\n",
       "      )\n",
       "      (1): ConvBNReLU(\n",
       "        (0): Conv2d(576, 576, kernel_size=(3, 3), stride=(1, 1), padding=(1, 1), groups=576, bias=False)\n",
       "        (1): BatchNorm2d(576, eps=1e-05, momentum=0.1, affine=True, track_running_stats=True)\n",
       "        (2): ReLU6(inplace=True)\n",
       "      )\n",
       "      (2): Conv2d(576, 96, kernel_size=(1, 1), stride=(1, 1), bias=False)\n",
       "      (3): BatchNorm2d(96, eps=1e-05, momentum=0.1, affine=True, track_running_stats=True)\n",
       "    )\n",
       "  )\n",
       "  (13): InvertedResidual(\n",
       "    (conv): Sequential(\n",
       "      (0): ConvBNReLU(\n",
       "        (0): Conv2d(96, 576, kernel_size=(1, 1), stride=(1, 1), bias=False)\n",
       "        (1): BatchNorm2d(576, eps=1e-05, momentum=0.1, affine=True, track_running_stats=True)\n",
       "        (2): ReLU6(inplace=True)\n",
       "      )\n",
       "      (1): ConvBNReLU(\n",
       "        (0): Conv2d(576, 576, kernel_size=(3, 3), stride=(1, 1), padding=(1, 1), groups=576, bias=False)\n",
       "        (1): BatchNorm2d(576, eps=1e-05, momentum=0.1, affine=True, track_running_stats=True)\n",
       "        (2): ReLU6(inplace=True)\n",
       "      )\n",
       "      (2): Conv2d(576, 96, kernel_size=(1, 1), stride=(1, 1), bias=False)\n",
       "      (3): BatchNorm2d(96, eps=1e-05, momentum=0.1, affine=True, track_running_stats=True)\n",
       "    )\n",
       "  )\n",
       "  (14): InvertedResidual(\n",
       "    (conv): Sequential(\n",
       "      (0): ConvBNReLU(\n",
       "        (0): Conv2d(96, 576, kernel_size=(1, 1), stride=(1, 1), bias=False)\n",
       "        (1): BatchNorm2d(576, eps=1e-05, momentum=0.1, affine=True, track_running_stats=True)\n",
       "        (2): ReLU6(inplace=True)\n",
       "      )\n",
       "      (1): ConvBNReLU(\n",
       "        (0): Conv2d(576, 576, kernel_size=(3, 3), stride=(2, 2), padding=(1, 1), groups=576, bias=False)\n",
       "        (1): BatchNorm2d(576, eps=1e-05, momentum=0.1, affine=True, track_running_stats=True)\n",
       "        (2): ReLU6(inplace=True)\n",
       "      )\n",
       "      (2): Conv2d(576, 160, kernel_size=(1, 1), stride=(1, 1), bias=False)\n",
       "      (3): BatchNorm2d(160, eps=1e-05, momentum=0.1, affine=True, track_running_stats=True)\n",
       "    )\n",
       "  )\n",
       "  (15): InvertedResidual(\n",
       "    (conv): Sequential(\n",
       "      (0): ConvBNReLU(\n",
       "        (0): Conv2d(160, 960, kernel_size=(1, 1), stride=(1, 1), bias=False)\n",
       "        (1): BatchNorm2d(960, eps=1e-05, momentum=0.1, affine=True, track_running_stats=True)\n",
       "        (2): ReLU6(inplace=True)\n",
       "      )\n",
       "      (1): ConvBNReLU(\n",
       "        (0): Conv2d(960, 960, kernel_size=(3, 3), stride=(1, 1), padding=(1, 1), groups=960, bias=False)\n",
       "        (1): BatchNorm2d(960, eps=1e-05, momentum=0.1, affine=True, track_running_stats=True)\n",
       "        (2): ReLU6(inplace=True)\n",
       "      )\n",
       "      (2): Conv2d(960, 160, kernel_size=(1, 1), stride=(1, 1), bias=False)\n",
       "      (3): BatchNorm2d(160, eps=1e-05, momentum=0.1, affine=True, track_running_stats=True)\n",
       "    )\n",
       "  )\n",
       "  (16): InvertedResidual(\n",
       "    (conv): Sequential(\n",
       "      (0): ConvBNReLU(\n",
       "        (0): Conv2d(160, 960, kernel_size=(1, 1), stride=(1, 1), bias=False)\n",
       "        (1): BatchNorm2d(960, eps=1e-05, momentum=0.1, affine=True, track_running_stats=True)\n",
       "        (2): ReLU6(inplace=True)\n",
       "      )\n",
       "      (1): ConvBNReLU(\n",
       "        (0): Conv2d(960, 960, kernel_size=(3, 3), stride=(1, 1), padding=(1, 1), groups=960, bias=False)\n",
       "        (1): BatchNorm2d(960, eps=1e-05, momentum=0.1, affine=True, track_running_stats=True)\n",
       "        (2): ReLU6(inplace=True)\n",
       "      )\n",
       "      (2): Conv2d(960, 160, kernel_size=(1, 1), stride=(1, 1), bias=False)\n",
       "      (3): BatchNorm2d(160, eps=1e-05, momentum=0.1, affine=True, track_running_stats=True)\n",
       "    )\n",
       "  )\n",
       "  (17): InvertedResidual(\n",
       "    (conv): Sequential(\n",
       "      (0): ConvBNReLU(\n",
       "        (0): Conv2d(160, 960, kernel_size=(1, 1), stride=(1, 1), bias=False)\n",
       "        (1): BatchNorm2d(960, eps=1e-05, momentum=0.1, affine=True, track_running_stats=True)\n",
       "        (2): ReLU6(inplace=True)\n",
       "      )\n",
       "      (1): ConvBNReLU(\n",
       "        (0): Conv2d(960, 960, kernel_size=(3, 3), stride=(1, 1), padding=(1, 1), groups=960, bias=False)\n",
       "        (1): BatchNorm2d(960, eps=1e-05, momentum=0.1, affine=True, track_running_stats=True)\n",
       "        (2): ReLU6(inplace=True)\n",
       "      )\n",
       "      (2): Conv2d(960, 320, kernel_size=(1, 1), stride=(1, 1), bias=False)\n",
       "      (3): BatchNorm2d(320, eps=1e-05, momentum=0.1, affine=True, track_running_stats=True)\n",
       "    )\n",
       "  )\n",
       "  (18): ConvBNReLU(\n",
       "    (0): Conv2d(320, 1280, kernel_size=(1, 1), stride=(1, 1), bias=False)\n",
       "    (1): BatchNorm2d(1280, eps=1e-05, momentum=0.1, affine=True, track_running_stats=True)\n",
       "    (2): ReLU6(inplace=True)\n",
       "  )\n",
       ")"
      ]
     },
     "execution_count": 30,
     "metadata": {},
     "output_type": "execute_result"
    }
   ],
   "source": [
    "backbone"
   ]
  },
  {
   "cell_type": "code",
   "execution_count": 33,
   "metadata": {},
   "outputs": [],
   "source": [
    "backbone = nn.Sequential(net.conv1, net.pool, net.conv2, net.conv2_drop, net.pool)"
   ]
  },
  {
   "cell_type": "code",
   "execution_count": 34,
   "metadata": {},
   "outputs": [
    {
     "data": {
      "text/plain": [
       "Sequential(\n",
       "  (0): Conv2d(1, 32, kernel_size=(5, 5), stride=(1, 1), padding=(2, 2))\n",
       "  (1): MaxPool2d(kernel_size=2, stride=2, padding=0, dilation=1, ceil_mode=False)\n",
       "  (2): Conv2d(32, 64, kernel_size=(5, 5), stride=(1, 1), padding=(2, 2))\n",
       "  (3): Dropout2d(p=0.5, inplace=False)\n",
       "  (4): MaxPool2d(kernel_size=2, stride=2, padding=0, dilation=1, ceil_mode=False)\n",
       ")"
      ]
     },
     "execution_count": 34,
     "metadata": {},
     "output_type": "execute_result"
    }
   ],
   "source": [
    "backbone"
   ]
  },
  {
   "cell_type": "code",
   "execution_count": 35,
   "metadata": {},
   "outputs": [],
   "source": [
    "import torchvision\n",
    "from torchvision.models.detection import FasterRCNN\n",
    "from torchvision.models.detection.rpn import AnchorGenerator"
   ]
  },
  {
   "cell_type": "code",
   "execution_count": 36,
   "metadata": {},
   "outputs": [],
   "source": [
    "anchor_generator = AnchorGenerator(sizes=((5, 10, 20, 50),),\n",
    "                                   aspect_ratios=((0.5, 1.0, 2.0),))"
   ]
  },
  {
   "cell_type": "code",
   "execution_count": 39,
   "metadata": {},
   "outputs": [],
   "source": [
    "backbone.out_channels = 64"
   ]
  },
  {
   "cell_type": "code",
   "execution_count": 49,
   "metadata": {},
   "outputs": [
    {
     "data": {
      "text/plain": [
       "tensor([[[[ 9.3720e-01,  1.6194e+00,  1.4339e+00,  ...,  1.5739e+00,\n",
       "            4.1414e+00,  1.5996e+00],\n",
       "          [ 7.1793e-01,  1.3241e+00,  2.0598e+00,  ..., -8.4847e+00,\n",
       "            3.1875e+00,  1.1550e+00],\n",
       "          [ 7.1793e-01,  1.4950e+00,  5.5703e+00,  ..., -6.0971e+00,\n",
       "            2.3716e+00,  5.9476e-01],\n",
       "          ...,\n",
       "          [ 7.1793e-01,  1.6378e+00, -5.9613e-01,  ...,  6.3856e-01,\n",
       "            1.3273e+00,  1.2374e+00],\n",
       "          [ 7.9171e-01,  2.9952e+00, -1.0352e+01,  ..., -5.6506e-01,\n",
       "            1.7529e+00,  9.5510e-01],\n",
       "          [ 1.3247e+00,  4.4653e+00,  5.1468e+00,  ...,  1.3899e+00,\n",
       "            1.8368e+00,  1.1546e+00]],\n",
       "\n",
       "         [[-2.2130e-01, -2.7220e+00, -2.8144e+00,  ..., -2.5049e+00,\n",
       "            3.8725e+00, -1.5358e+00],\n",
       "          [ 3.7265e-01, -1.5178e+00, -9.6131e-01,  ...,  1.6295e+01,\n",
       "            1.5519e+01, -1.0102e+00],\n",
       "          [ 3.7265e-01, -1.4861e+00,  7.0767e+00,  ...,  1.8334e+01,\n",
       "            1.2726e+01, -1.1912e+00],\n",
       "          ...,\n",
       "          [ 3.7265e-01,  5.0765e+00,  1.1369e+01,  ...,  1.1508e+01,\n",
       "           -2.5689e+00, -5.9379e-01],\n",
       "          [ 8.2989e-01,  5.6029e+00, -4.4815e+00,  ..., -3.5479e+00,\n",
       "           -7.5136e-01,  2.6137e-01],\n",
       "          [ 2.4173e-01,  2.8104e-01, -1.7917e+00,  ..., -1.5663e+00,\n",
       "           -5.2733e-01, -1.2320e-01]],\n",
       "\n",
       "         [[-1.8031e+00, -2.2897e+00, -3.1188e+00,  ...,  2.7471e+00,\n",
       "           -7.5683e-01, -1.9031e+00],\n",
       "          [-1.6062e+00, -1.7746e+00, -3.2126e+00,  ...,  4.4927e+00,\n",
       "            2.0678e+00, -1.4038e+00],\n",
       "          [-1.6295e+00, -1.9405e+00, -3.6594e+00,  ...,  3.1039e+00,\n",
       "            1.9348e+00, -1.5816e+00],\n",
       "          ...,\n",
       "          [-1.6295e+00, -4.8664e-01,  4.9612e+00,  ..., -1.1873e+00,\n",
       "           -1.2665e+00, -1.8927e+00],\n",
       "          [-1.6295e+00,  2.9848e+00,  5.1974e-01,  ..., -1.6749e+00,\n",
       "           -2.3964e+00, -1.8927e+00],\n",
       "          [-8.6709e-01, -8.1227e-01, -1.3756e+00,  ..., -9.6780e-01,\n",
       "           -6.3156e-01, -4.0772e-01]],\n",
       "\n",
       "         ...,\n",
       "\n",
       "         [[ 1.0149e+00,  1.6848e+00,  1.4865e+00,  ...,  1.8213e+00,\n",
       "           -2.8134e-01,  1.2686e+00],\n",
       "          [ 1.0300e+00,  1.6302e+00,  3.3451e+00,  ..., -7.5815e+00,\n",
       "           -2.5897e+00,  1.0587e+00],\n",
       "          [ 4.9411e-01,  1.1383e+00,  1.8072e+00,  ..., -7.4729e+00,\n",
       "            2.2175e+00,  1.6746e+00],\n",
       "          ...,\n",
       "          [ 4.9411e-01,  4.2824e+00,  3.4908e+00,  ..., -1.1962e-01,\n",
       "            3.9353e+00,  1.3262e+00],\n",
       "          [ 5.5843e-01,  1.4703e+00, -9.2528e+00,  ...,  3.5740e+00,\n",
       "            2.3384e+00,  1.3160e+00],\n",
       "          [ 7.2734e-01, -2.7081e-01,  5.6154e+00,  ...,  3.3717e+00,\n",
       "            1.1180e+00,  1.5267e+00]],\n",
       "\n",
       "         [[-1.3971e+00, -1.4492e+00, -1.4070e+00,  ...,  4.0649e+00,\n",
       "           -3.7085e+00, -4.1237e-01],\n",
       "          [ 5.5491e-01, -4.2651e-01, -1.0248e+00,  ...,  1.1642e+01,\n",
       "           -3.4408e+00, -1.2736e+00],\n",
       "          [ 5.5491e-01, -3.9429e-01,  4.0303e+00,  ..., -1.2491e+00,\n",
       "            1.6117e-01, -1.2736e+00],\n",
       "          ...,\n",
       "          [ 5.5491e-01, -2.1090e+00,  4.2407e+00,  ...,  2.8566e+00,\n",
       "            1.4033e+00, -9.0438e-01],\n",
       "          [ 5.7940e-01,  1.6713e+00, -7.2600e+00,  ...,  1.0169e+00,\n",
       "           -3.7486e-01, -8.9993e-01],\n",
       "          [ 1.6834e+00,  2.5822e+00, -1.1562e+01,  ...,  3.0064e+00,\n",
       "            1.1483e+00, -1.4919e-01]],\n",
       "\n",
       "         [[-1.2268e+00, -1.4670e+00, -1.5431e+00,  ..., -2.4182e+00,\n",
       "           -4.6032e+00, -3.6960e-01],\n",
       "          [-9.5190e-01, -1.6283e+00, -2.8961e+00,  ...,  3.1031e-01,\n",
       "           -2.9303e-01, -9.8571e-01],\n",
       "          [-9.5190e-01, -1.6283e+00, -2.1322e+00,  ..., -4.8616e+00,\n",
       "            9.5610e-01, -9.8571e-01],\n",
       "          ...,\n",
       "          [-9.5190e-01, -4.1661e+00,  9.8792e+00,  ...,  3.8745e-01,\n",
       "           -2.1118e+00, -9.8571e-01],\n",
       "          [-6.7615e-01,  2.8410e-01,  7.7485e+00,  ..., -1.2707e+00,\n",
       "           -1.6836e+00, -9.8571e-01],\n",
       "          [-6.2272e-01, -9.7656e-01, -1.0879e+01,  ..., -1.7524e+00,\n",
       "           -1.7802e+00, -1.4018e+00]]],\n",
       "\n",
       "\n",
       "        [[[ 9.3720e-01,  1.6194e+00,  3.0131e+00,  ...,  2.0806e+00,\n",
       "            1.2047e+00,  1.2744e+00],\n",
       "          [ 7.1793e-01,  1.7768e+00,  5.1064e+00,  ...,  3.2965e+00,\n",
       "            5.8577e+00,  1.8870e+00],\n",
       "          [ 7.1793e-01,  1.0492e+00, -1.5370e+00,  ..., -1.2199e+00,\n",
       "            3.6108e+00,  7.5600e-01],\n",
       "          ...,\n",
       "          [ 7.1793e-01,  2.7511e+00,  6.1493e-01,  ...,  3.5071e-01,\n",
       "            1.2899e+00,  1.1548e+00],\n",
       "          [ 7.9171e-01,  7.7878e-01, -4.9477e+00,  ..., -4.0625e-01,\n",
       "            1.5870e+00,  9.5510e-01],\n",
       "          [ 1.3247e+00,  4.8319e+00, -1.8411e+00,  ...,  1.3838e-01,\n",
       "            1.8368e+00,  1.1546e+00]],\n",
       "\n",
       "         [[-2.2130e-01, -2.7220e+00, -2.0054e+00,  ...,  9.3181e-01,\n",
       "           -1.1820e+00, -1.6624e+00],\n",
       "          [ 3.7265e-01, -1.4416e+00,  3.2880e-01,  ...,  8.9122e+00,\n",
       "            4.8106e+00, -1.3870e+00],\n",
       "          [ 3.7265e-01, -1.5732e+00,  5.2637e+00,  ...,  1.4576e+01,\n",
       "            1.0603e+01, -8.3337e-01],\n",
       "          ...,\n",
       "          [ 3.7265e-01, -1.7587e+00,  1.0111e+01,  ...,  1.1948e+01,\n",
       "           -2.9596e+00, -7.8463e-01],\n",
       "          [ 8.2989e-01,  3.5577e+00,  1.1318e+01,  ...,  2.3441e+00,\n",
       "           -8.4016e-01,  2.6137e-01],\n",
       "          [ 2.4173e-01,  2.1928e+00, -6.4509e+00,  ..., -2.1440e+00,\n",
       "           -5.2733e-01, -1.2320e-01]],\n",
       "\n",
       "         [[-1.8031e+00, -2.2897e+00, -2.5486e+00,  ..., -4.5915e+00,\n",
       "           -3.3430e+00, -1.9263e+00],\n",
       "          [-1.6062e+00, -1.8443e+00, -1.3997e+00,  ...,  1.0670e+00,\n",
       "           -1.5064e-01, -1.4387e+00],\n",
       "          [-1.6295e+00, -1.0775e+00,  7.8294e+00,  ...,  4.5398e+00,\n",
       "            1.0796e+00, -1.6689e+00],\n",
       "          ...,\n",
       "          [-1.6295e+00, -2.8791e+00,  2.1912e+00,  ..., -1.9743e+00,\n",
       "           -8.6380e-01, -1.8927e+00],\n",
       "          [-1.6295e+00,  1.8992e+00,  4.8888e+00,  ..., -7.0867e-01,\n",
       "           -1.8931e+00, -1.8927e+00],\n",
       "          [-8.6709e-01,  3.3242e+00, -5.4820e+00,  ..., -7.8135e-01,\n",
       "           -6.3156e-01, -4.0772e-01]],\n",
       "\n",
       "         ...,\n",
       "\n",
       "         [[ 1.0149e+00,  1.6331e+00,  1.3358e+00,  ...,  3.1146e+00,\n",
       "            3.5316e-01,  1.3170e+00],\n",
       "          [ 1.0300e+00,  1.4765e+00,  1.0825e+01,  ...,  1.0833e+00,\n",
       "           -4.9510e+00,  1.0587e+00],\n",
       "          [ 4.9411e-01,  6.2255e+00,  7.0164e+00,  ..., -1.1648e+01,\n",
       "           -1.1028e+00,  1.1306e+00],\n",
       "          ...,\n",
       "          [ 4.9411e-01,  2.2416e+00,  4.1494e+00,  ..., -5.2054e+00,\n",
       "            3.7230e+00,  1.4853e+00],\n",
       "          [ 5.5843e-01,  4.4112e+00,  6.4688e-01,  ...,  3.7018e+00,\n",
       "            3.0684e+00,  1.3160e+00],\n",
       "          [ 7.2734e-01,  3.3526e-01, -9.3714e-01,  ...,  3.9983e+00,\n",
       "            1.3260e+00,  1.5267e+00]],\n",
       "\n",
       "         [[-1.3971e+00, -1.4588e+00,  1.4935e+00,  ..., -5.0717e+00,\n",
       "           -2.8989e+00, -4.1237e-01],\n",
       "          [ 5.5491e-01, -5.5721e-01, -1.2228e+00,  ...,  6.1008e+00,\n",
       "           -2.6552e+00, -1.2736e+00],\n",
       "          [ 5.5491e-01, -1.5836e+00,  9.6363e+00,  ...,  3.6686e+00,\n",
       "           -7.9986e-01, -1.2736e+00],\n",
       "          ...,\n",
       "          [ 5.5491e-01,  1.3737e-01,  2.3602e+00,  ..., -4.8589e-01,\n",
       "            2.3349e+00, -1.1201e+00],\n",
       "          [ 5.7940e-01, -1.8087e+00,  1.2231e+00,  ...,  2.7469e+00,\n",
       "           -3.3179e-01, -8.9993e-01],\n",
       "          [ 1.6834e+00,  1.4608e+00, -1.5609e+01,  ...,  3.4377e+00,\n",
       "            1.1483e+00, -1.4919e-01]],\n",
       "\n",
       "         [[-1.2268e+00, -1.4670e+00, -1.1399e+00,  ..., -2.8277e+00,\n",
       "           -3.3135e+00, -3.6960e-01],\n",
       "          [-9.5190e-01, -2.1522e+00,  1.0398e+00,  ..., -2.3441e+00,\n",
       "           -2.4515e+00, -9.8571e-01],\n",
       "          [-9.5190e-01, -2.7457e+00,  3.4364e+00,  ...,  1.7390e+00,\n",
       "           -9.3249e-01, -9.8571e-01],\n",
       "          ...,\n",
       "          [-9.5190e-01, -1.9228e+00,  2.3895e+00,  ..., -1.9161e+00,\n",
       "           -2.2569e+00, -9.8571e-01],\n",
       "          [-6.7615e-01, -2.8959e+00,  7.5139e+00,  ..., -1.8273e+00,\n",
       "           -1.4759e+00, -9.8571e-01],\n",
       "          [-6.2272e-01, -8.3776e-01,  9.2865e-01,  ..., -6.5306e-01,\n",
       "           -1.7802e+00, -1.4018e+00]]],\n",
       "\n",
       "\n",
       "        [[[ 1.1308e+00,  2.6111e+00,  9.3469e+00,  ...,  3.1349e+00,\n",
       "            6.0234e+00,  6.7207e+00],\n",
       "          [ 8.6920e-01,  2.1967e+00,  1.3053e+00,  ..., -4.8470e+00,\n",
       "            7.3937e+00,  6.0396e+00],\n",
       "          [ 2.4611e+00,  4.5072e+00,  6.4690e+00,  ...,  1.3812e+01,\n",
       "            1.8291e+01,  3.4570e+00],\n",
       "          ...,\n",
       "          [ 6.3838e+00, -7.6655e+00,  2.6954e+01,  ...,  1.0436e+01,\n",
       "            5.7462e+00,  2.2322e+00],\n",
       "          [ 8.3729e+00,  1.5015e+01,  1.6396e+01,  ..., -1.1987e+01,\n",
       "           -2.6980e+00, -1.4190e+00],\n",
       "          [ 3.4192e-01,  2.1121e-01,  1.3007e+01,  ...,  6.8198e+00,\n",
       "            6.0165e+00,  1.2655e+00]],\n",
       "\n",
       "         [[-2.2130e-01, -2.7656e+00, -1.6792e+00,  ...,  2.9485e+00,\n",
       "            1.7507e+00,  4.3148e+00],\n",
       "          [ 3.7265e-01,  1.9104e+00,  1.0493e+00,  ..., -1.5824e+00,\n",
       "            5.6068e+00,  1.2477e+00],\n",
       "          [ 8.1834e-01,  9.8641e+00, -1.0561e+01,  ...,  7.0382e-01,\n",
       "            4.3115e-01,  2.1512e-01],\n",
       "          ...,\n",
       "          [-4.1006e+00, -6.7671e+00, -7.2819e+00,  ...,  2.2848e+00,\n",
       "            2.0399e+01,  1.5678e+01],\n",
       "          [ 7.0754e-01, -7.9348e+00, -1.2915e+01,  ..., -2.2844e+00,\n",
       "            1.8590e+00, -2.6816e+00],\n",
       "          [-4.9452e-03, -1.1133e+00, -2.8867e+00,  ..., -8.8526e+00,\n",
       "           -7.8906e+00, -2.0120e+00]],\n",
       "\n",
       "         [[-1.8031e+00, -2.6001e+00, -3.4092e+00,  ...,  5.3314e+00,\n",
       "            7.8266e+00,  8.2121e-02],\n",
       "          [-1.6062e+00, -3.2509e+00,  1.6140e+01,  ...,  1.3596e+01,\n",
       "            4.6766e+00,  1.4542e-01],\n",
       "          [-1.6582e+00,  2.9202e+00,  9.8383e+00,  ...,  4.4097e+00,\n",
       "           -3.7584e-01, -2.3230e+00],\n",
       "          ...,\n",
       "          [ 3.5887e+00,  9.2844e-01,  3.2724e+00,  ...,  1.9853e+01,\n",
       "            7.5414e+00,  3.3316e+00],\n",
       "          [-8.5430e-02,  1.0320e+00, -9.1571e-02,  ...,  7.9729e+00,\n",
       "           -6.7168e+00,  2.6963e-02],\n",
       "          [-9.2622e-01, -5.6331e-01,  4.4951e-01,  ..., -7.7510e-01,\n",
       "           -1.5955e+00, -5.3365e-01]],\n",
       "\n",
       "         ...,\n",
       "\n",
       "         [[ 8.9127e-01,  1.3005e+00,  8.2053e-01,  ...,  6.8940e+00,\n",
       "            2.0710e+00, -7.8922e-01],\n",
       "          [ 8.0211e-01,  6.6107e+00,  1.1453e+01,  ...,  3.0627e+00,\n",
       "           -1.3322e+01,  5.4792e-01],\n",
       "          [ 4.3590e-01,  3.8883e+00, -9.7680e+00,  ...,  4.8693e+00,\n",
       "            4.9145e-01,  2.4838e+00],\n",
       "          ...,\n",
       "          [ 5.2822e+00, -3.6944e+00,  2.2909e+00,  ...,  2.3466e+00,\n",
       "           -1.0675e+01,  7.7455e-01],\n",
       "          [ 2.7942e+00, -1.0790e+00, -5.1060e-01,  ..., -9.3716e+00,\n",
       "            6.6654e-01,  3.9453e+00],\n",
       "          [ 2.4720e+00,  3.4076e+00,  4.8561e+00,  ...,  9.4253e+00,\n",
       "            6.1609e+00,  3.5334e+00]],\n",
       "\n",
       "         [[-1.3971e+00,  5.0337e-01,  5.0955e+00,  ...,  1.2641e+01,\n",
       "            8.5110e+00, -2.3911e+00],\n",
       "          [ 5.5491e-01,  1.1575e-01,  1.4253e+00,  ...,  4.6165e+00,\n",
       "            7.4975e+00, -5.5901e+00],\n",
       "          [ 6.4336e+00,  3.8635e-01,  1.2726e+01,  ...,  2.1822e+00,\n",
       "            4.4368e+00,  3.4945e+00],\n",
       "          ...,\n",
       "          [-1.1688e+01,  4.2312e+00, -1.0016e-01,  ..., -7.0087e+00,\n",
       "            2.0318e+01, -3.3199e+00],\n",
       "          [-1.6903e+00, -1.5644e+01,  2.0498e+00,  ..., -5.4249e+00,\n",
       "           -1.0486e+00,  3.0811e+00],\n",
       "          [ 1.2898e+00, -3.5165e-01, -2.7137e+00,  ..., -5.9316e+00,\n",
       "            6.2225e+00,  2.4250e+00]],\n",
       "\n",
       "         [[-1.2268e+00, -1.2631e+00, -3.4752e-01,  ...,  1.7627e+00,\n",
       "           -2.5261e+00, -2.3315e+00],\n",
       "          [-9.5190e-01, -1.8270e+00,  6.1778e+00,  ...,  1.7350e+01,\n",
       "            1.1221e+01,  8.2221e+00],\n",
       "          [ 1.2246e+00, -1.0293e-01,  1.0003e+01,  ...,  3.9127e+00,\n",
       "           -6.2830e+00, -1.2319e+00],\n",
       "          ...,\n",
       "          [-6.7772e-01, -2.3609e-01, -3.1245e+00,  ...,  5.0085e-01,\n",
       "           -7.9990e+00, -7.7149e-01],\n",
       "          [-5.3731e+00, -4.7257e+00,  2.8906e+00,  ...,  1.2683e+01,\n",
       "            3.8011e+00, -3.8676e-01],\n",
       "          [-7.0251e-01, -2.9025e+00, -6.1146e+00,  ..., -8.9136e+00,\n",
       "           -3.6407e+00, -1.7524e+00]]],\n",
       "\n",
       "\n",
       "        ...,\n",
       "\n",
       "\n",
       "        [[[ 1.6974e+00,  7.7593e+00,  1.0035e+01,  ...,  1.0352e+01,\n",
       "            9.0279e+00,  3.7293e+00],\n",
       "          [ 2.0038e+00,  4.3834e+00, -6.6872e+00,  ..., -1.3752e+01,\n",
       "           -6.2808e+00,  2.1539e+00],\n",
       "          [ 6.8133e+00,  8.7333e+00, -1.9993e+00,  ..., -7.4453e-01,\n",
       "           -1.7231e+00, -2.2192e-02],\n",
       "          ...,\n",
       "          [ 3.1986e+00, -1.0694e-01,  6.3491e+00,  ...,  1.5971e+00,\n",
       "            2.0373e+00,  1.6111e+00],\n",
       "          [ 4.4227e+00, -6.4037e+00, -1.6754e+01,  ..., -1.2340e+00,\n",
       "           -5.2162e-01,  5.9476e-01],\n",
       "          [ 4.7477e+00,  1.5968e+01,  1.4327e+01,  ...,  6.2508e+00,\n",
       "            1.9826e+00,  1.3044e+00]],\n",
       "\n",
       "         [[-1.5939e-01, -1.9442e+00,  1.7420e+00,  ..., -1.4545e+00,\n",
       "            2.5958e-01,  1.8640e+00],\n",
       "          [ 1.9767e-01, -2.9471e+00, -1.5735e+01,  ...,  1.4755e+00,\n",
       "            1.5684e+01,  2.4129e+00],\n",
       "          [ 7.2400e-01, -3.5133e+00, -1.0737e+01,  ...,  3.6173e+00,\n",
       "            1.0707e+01, -1.3147e+00],\n",
       "          ...,\n",
       "          [ 1.6567e+00, -1.0651e-01,  4.1739e+00,  ...,  5.7029e+00,\n",
       "            1.4599e+01, -1.2253e+00],\n",
       "          [ 2.1849e+00, -1.3120e+01, -5.1565e+00,  ..., -7.2171e-01,\n",
       "           -3.0680e+00, -6.5319e-01],\n",
       "          [ 2.9429e-01, -2.0296e+00, -1.3779e+01,  ..., -7.2319e+00,\n",
       "           -1.7273e+00, -2.6971e-01]],\n",
       "\n",
       "         [[-1.8889e+00, -2.1653e+00, -7.5845e+00,  ..., -3.7193e+00,\n",
       "            1.5608e+00, -6.2322e-01],\n",
       "          [-2.2075e+00,  9.8657e+00,  1.2176e+01,  ..., -3.8264e+00,\n",
       "           -6.6610e-01, -3.8435e-01],\n",
       "          [ 3.4641e+00,  7.0522e+00, -1.0046e+01,  ...,  2.3234e-01,\n",
       "           -5.0047e+00, -1.1393e+00],\n",
       "          ...,\n",
       "          [-2.3744e+00,  3.7313e+00,  9.6381e-01,  ...,  5.4710e-01,\n",
       "            9.0622e-01, -7.1147e-01],\n",
       "          [ 4.3693e+00,  3.0156e+00,  4.8064e+00,  ..., -6.9564e+00,\n",
       "           -1.7750e+00, -1.6649e+00],\n",
       "          [-1.1772e+00, -7.3240e-01, -9.3967e-01,  ..., -1.5153e+00,\n",
       "           -4.9798e-01, -2.7251e-01]],\n",
       "\n",
       "         ...,\n",
       "\n",
       "         [[ 5.3148e-01,  1.0283e+00,  4.1710e+00,  ...,  1.3515e+00,\n",
       "            2.3089e+00,  3.7380e-01],\n",
       "          [ 4.1957e+00,  1.1924e+01,  1.4189e+01,  ..., -9.5744e+00,\n",
       "           -9.7034e+00,  1.2186e+00],\n",
       "          [ 4.0585e+00,  3.6752e-01,  1.5894e+01,  ..., -4.8055e+00,\n",
       "           -5.2918e+00,  3.5080e+00],\n",
       "          ...,\n",
       "          [ 6.6480e+00,  6.5155e+00, -3.4371e+00,  ..., -5.8131e+00,\n",
       "           -1.1486e+00,  2.1298e+00],\n",
       "          [ 6.1871e+00, -2.6532e+00,  1.3404e+00,  ..., -1.2923e-01,\n",
       "            3.9247e+00,  2.4292e+00],\n",
       "          [ 9.0316e-01,  3.7331e+00,  9.4872e+00,  ...,  5.8382e+00,\n",
       "            2.8005e+00,  1.6490e+00]],\n",
       "\n",
       "         [[-1.1630e+00,  3.3287e+00, -9.9326e-02,  ...,  7.3845e+00,\n",
       "           -2.3853e+00, -1.4897e+00],\n",
       "          [ 1.7799e-02, -4.4048e+00,  4.4703e+00,  ...,  2.4983e+00,\n",
       "            1.3625e+01, -3.2880e+00],\n",
       "          [ 6.6130e-01, -7.2977e+00, -7.8757e+00,  ..., -5.3152e+00,\n",
       "           -2.5091e+00, -5.5297e-01],\n",
       "          ...,\n",
       "          [-3.5116e-01,  1.4558e+01,  8.5184e+00,  ...,  2.1463e+01,\n",
       "           -1.2002e+00, -1.2736e+00],\n",
       "          [ 1.7153e+00, -1.1388e+01, -4.3519e+00,  ..., -7.8549e+00,\n",
       "            3.0347e+00, -1.2736e+00],\n",
       "          [ 2.4581e+00, -8.3541e+00, -7.5574e+00,  ...,  1.8059e+00,\n",
       "            4.1592e+00, -2.8590e-01]],\n",
       "\n",
       "         [[-1.2493e+00, -8.2197e-01, -1.2016e+00,  ..., -2.0594e+00,\n",
       "           -7.7658e+00, -1.0828e+00],\n",
       "          [-1.6130e+00, -1.9357e+00, -1.6761e+00,  ...,  1.7510e+01,\n",
       "            1.2041e+00,  9.1852e-01],\n",
       "          [-1.4530e+00,  1.9275e+00,  4.9148e+00,  ..., -1.4129e+01,\n",
       "           -4.4778e+00, -4.1231e-01],\n",
       "          ...,\n",
       "          [-3.2555e+00,  1.4138e+00, -9.4096e+00,  ..., -4.6407e+00,\n",
       "           -4.8777e-01, -9.8571e-01],\n",
       "          [ 1.0853e+00,  2.0646e+00,  1.3510e+01,  ...,  2.4873e+00,\n",
       "           -1.0421e+00, -8.4806e-01],\n",
       "          [-3.6114e-01, -8.9234e+00, -5.9042e-01,  ..., -2.7665e+00,\n",
       "           -2.3329e+00, -1.4018e+00]]],\n",
       "\n",
       "\n",
       "        [[[ 1.0175e+00,  2.0418e+00,  4.6200e+00,  ...,  2.5920e+00,\n",
       "           -2.5581e-02,  4.1342e-01],\n",
       "          [ 8.2610e-01,  4.3867e+00,  7.3286e+00,  ...,  9.6228e+00,\n",
       "            9.2380e+00,  3.6114e+00],\n",
       "          [ 1.8387e+00,  1.2384e+00, -7.1358e+00,  ..., -7.3469e+00,\n",
       "           -8.8319e+00,  2.3122e+00],\n",
       "          ...,\n",
       "          [ 2.6213e+00,  3.1608e-01,  4.4384e+00,  ..., -8.2301e+00,\n",
       "            2.6549e+00, -5.1612e-01],\n",
       "          [ 3.3587e+00, -2.3060e+00,  7.6234e-02,  ..., -4.8480e+00,\n",
       "           -2.4218e-01,  5.0634e-01],\n",
       "          [ 3.1248e+00,  1.1451e+01,  9.2016e+00,  ...,  3.3985e+00,\n",
       "            2.2319e+00,  1.4102e+00]],\n",
       "\n",
       "         [[-2.2130e-01, -2.7357e+00, -1.1502e+00,  ...,  1.4219e+00,\n",
       "            2.5541e+00,  3.6849e-01],\n",
       "          [ 4.0005e-01,  3.6703e-01, -8.3219e-01,  ..., -4.7433e+00,\n",
       "            1.1477e+01,  6.0979e+00],\n",
       "          [ 2.6548e+00,  7.4093e+00, -8.4162e-01,  ..., -7.5633e+00,\n",
       "            2.0590e+01,  1.2364e+01],\n",
       "          ...,\n",
       "          [ 9.1423e+00, -8.0708e+00,  8.9276e+00,  ..., -2.9869e+00,\n",
       "            8.3009e+00,  1.8492e-02],\n",
       "          [ 1.9510e+00, -1.7169e+01, -1.0967e+01,  ..., -1.6390e+00,\n",
       "           -4.7491e+00, -1.6087e+00],\n",
       "          [ 4.8105e-01, -3.5948e+00, -1.3384e+01,  ..., -2.7712e+00,\n",
       "           -1.9569e+00, -5.1307e-01]],\n",
       "\n",
       "         [[-1.8031e+00, -2.1511e+00, -2.8943e+00,  ..., -1.5834e+00,\n",
       "           -2.4208e+00, -2.5056e+00],\n",
       "          [-1.6166e+00, -2.1913e+00,  5.0727e+00,  ...,  7.6167e+00,\n",
       "            6.0766e+00,  1.3277e+00],\n",
       "          [-2.6799e+00,  7.6992e+00,  1.3033e+01,  ...,  3.2200e+00,\n",
       "            1.9081e+00,  2.9172e+00],\n",
       "          ...,\n",
       "          [ 1.3228e+00,  3.3381e+00, -5.7172e+00,  ...,  1.7968e+00,\n",
       "           -4.3532e+00, -9.5626e-02],\n",
       "          [ 1.3949e+00,  1.8341e+00,  5.1333e+00,  ..., -5.7788e+00,\n",
       "           -4.0251e+00, -1.7611e+00],\n",
       "          [ 1.8894e+00,  1.2126e+00, -3.0991e+00,  ..., -1.6921e+00,\n",
       "           -5.2925e-01, -2.4561e-01]],\n",
       "\n",
       "         ...,\n",
       "\n",
       "         [[ 9.5924e-01,  1.4901e+00,  1.4968e+00,  ...,  2.0190e+00,\n",
       "            2.4680e+00,  8.7482e-01],\n",
       "          [ 7.4784e-01,  1.4674e+00,  1.7486e+01,  ..., -2.3058e-01,\n",
       "           -4.7463e+00, -2.6874e+00],\n",
       "          [ 1.6356e+00,  1.1613e+01,  1.1356e+01,  ..., -8.6012e+00,\n",
       "           -7.2936e+00, -5.3631e-01],\n",
       "          ...,\n",
       "          [ 1.5871e+00, -8.7757e+00, -4.5007e+00,  ..., -2.0606e+00,\n",
       "           -1.0361e+01,  3.4099e+00],\n",
       "          [ 2.1487e-01,  4.7147e+00,  3.6448e+00,  ..., -1.8062e+00,\n",
       "            1.7023e+00,  3.8551e+00],\n",
       "          [ 1.2105e-01, -1.6611e+00, -4.9093e+00,  ...,  5.3632e+00,\n",
       "            2.6920e+00,  2.0884e+00]],\n",
       "\n",
       "         [[-1.3971e+00, -8.2828e-01,  9.3743e-01,  ...,  5.7819e+00,\n",
       "           -5.9184e+00, -1.1328e+00],\n",
       "          [ 7.7799e-01,  1.0238e+00, -3.0364e+00,  ...,  1.6869e+01,\n",
       "            2.5924e+00, -2.8116e+00],\n",
       "          [ 3.3600e-01, -1.5909e+00,  3.7593e-01,  ...,  1.0389e+01,\n",
       "            1.4442e+01, -2.6100e+00],\n",
       "          ...,\n",
       "          [-1.1150e+00,  1.1387e+01,  1.5725e+00,  ..., -1.2586e+01,\n",
       "            4.6555e+00,  6.4001e-01],\n",
       "          [ 2.6935e+00,  4.0908e+00,  3.9554e+00,  ..., -1.2891e+01,\n",
       "            3.1513e+00,  5.9427e-01],\n",
       "          [ 2.8498e+00, -1.2603e+01, -3.1633e-01,  ...,  1.6807e+00,\n",
       "            2.7952e+00, -6.3816e-01]],\n",
       "\n",
       "         [[-1.2268e+00, -1.4670e+00, -1.3717e+00,  ..., -9.8450e-01,\n",
       "           -3.4296e+00, -1.1081e+00],\n",
       "          [-1.1995e+00, -1.9846e+00, -3.2872e+00,  ...,  9.7022e+00,\n",
       "            4.2476e+00, -2.4351e+00],\n",
       "          [-1.7828e+00,  3.4770e+00, -2.1793e+00,  ...,  2.1759e+01,\n",
       "            6.7075e+00,  4.9734e-01],\n",
       "          ...,\n",
       "          [ 6.7696e+00,  2.0510e+00, -3.5156e+00,  ..., -1.8333e+00,\n",
       "           -3.0722e+00, -1.0326e+00],\n",
       "          [-2.9715e+00, -6.7552e+00,  2.2495e+00,  ..., -3.5218e+00,\n",
       "           -1.9435e+00, -7.2720e-01],\n",
       "          [-5.9822e-01, -4.5274e+00,  5.8276e+00,  ..., -1.9979e+00,\n",
       "           -1.5258e+00, -1.4064e+00]]],\n",
       "\n",
       "\n",
       "        [[[ 1.4926e+00,  4.0773e+00,  6.5283e+00,  ...,  2.0787e+00,\n",
       "            7.0274e-01,  2.1099e+00],\n",
       "          [ 1.3296e+00,  5.3649e+00,  5.4992e+00,  ...,  3.3558e+00,\n",
       "            4.7062e+00,  4.9958e+00],\n",
       "          [ 4.7489e+00,  9.2404e+00, -5.4626e+00,  ...,  5.2895e-01,\n",
       "           -9.4167e-01,  5.1734e-01],\n",
       "          ...,\n",
       "          [ 3.1975e-01, -2.1443e-01, -3.3420e+00,  ..., -6.9539e+00,\n",
       "            4.4080e-01,  5.4796e+00],\n",
       "          [ 9.4967e-01,  2.8404e+00, -1.3609e+01,  ...,  4.1111e+00,\n",
       "           -1.1844e+00,  3.8656e-01],\n",
       "          [ 2.4743e+00,  6.1748e+00,  8.9366e+00,  ...,  5.5715e+00,\n",
       "            2.4769e+00,  1.3089e+00]],\n",
       "\n",
       "         [[-1.8991e-01, -1.9577e+00, -3.3095e-01,  ...,  2.8558e-01,\n",
       "            2.0510e+00, -8.0309e-01],\n",
       "          [ 2.4858e-01, -2.0626e+00, -8.5977e+00,  ..., -6.3117e-01,\n",
       "            1.5811e+01, -4.6187e-02],\n",
       "          [ 3.3516e-01, -1.8220e+00, -9.2655e+00,  ...,  1.7013e+01,\n",
       "            2.0865e+01, -5.0007e-01],\n",
       "          ...,\n",
       "          [ 3.7265e-01,  9.1521e+00, -3.4133e+00,  ..., -1.1939e+01,\n",
       "            1.8723e+01,  5.2677e-01],\n",
       "          [ 8.2989e-01,  1.4324e+00, -8.9484e+00,  ..., -4.4565e+00,\n",
       "            6.2131e+00, -4.9354e-01],\n",
       "          [ 2.4173e-01, -1.7394e-01, -9.4499e+00,  ..., -2.5912e+00,\n",
       "           -3.2207e+00, -1.0547e+00]],\n",
       "\n",
       "         [[-1.8181e+00, -2.2807e+00, -4.6738e+00,  ..., -1.6473e+00,\n",
       "           -2.1848e+00, -1.7254e+00],\n",
       "          [-1.7763e+00,  1.0189e+00,  1.3505e+01,  ...,  7.9589e+00,\n",
       "            2.8498e+00,  4.0702e-01],\n",
       "          [ 4.8441e-01,  5.8093e+00,  4.4486e+00,  ...,  2.7097e+00,\n",
       "           -1.8980e+00, -1.7127e-02],\n",
       "          ...,\n",
       "          [-1.6295e+00,  7.1502e+00,  8.3853e+00,  ...,  3.3255e+00,\n",
       "           -8.8416e-01,  1.1106e+00],\n",
       "          [-1.6295e+00,  1.7135e+00,  8.1045e+00,  ..., -3.9215e-01,\n",
       "           -4.4899e+00,  1.1787e-01],\n",
       "          [-8.6709e-01,  1.3996e+00, -3.7617e+00,  ..., -2.3048e+00,\n",
       "           -9.1913e-01, -3.3933e-01]],\n",
       "\n",
       "         ...,\n",
       "\n",
       "         [[ 6.9017e-01,  1.2573e+00,  5.1013e-01,  ...,  3.2625e+00,\n",
       "            2.4913e+00,  1.1320e+00],\n",
       "          [ 2.3192e+00,  1.1877e+01,  3.3753e+00,  ..., -1.0720e+00,\n",
       "           -5.7570e+00,  7.9310e-01],\n",
       "          [ 3.3645e+00,  9.1568e+00, -1.2048e+01,  ..., -1.0781e+01,\n",
       "           -1.0655e+00,  3.1618e+00],\n",
       "          ...,\n",
       "          [ 4.7889e-01,  6.7785e+00,  1.2512e+00,  ..., -4.4911e+00,\n",
       "           -3.8840e+00,  8.5795e-01],\n",
       "          [ 2.2359e-01,  6.4356e-01,  3.3774e+00,  ..., -7.6020e+00,\n",
       "            1.5047e+00,  3.6138e+00],\n",
       "          [ 6.9279e-01, -2.6947e+00, -2.2666e+00,  ...,  6.9219e+00,\n",
       "            3.4435e+00,  2.7441e+00]],\n",
       "\n",
       "         [[-1.4208e+00,  5.1830e+00,  4.5910e+00,  ...,  8.7700e-01,\n",
       "           -3.9223e+00, -5.4331e-01],\n",
       "          [ 3.2731e-01,  5.7678e+00,  1.4239e+01,  ...,  1.2240e+01,\n",
       "           -3.5952e+00, -1.7193e+00],\n",
       "          [ 1.0737e+00, -3.0210e+00,  1.6435e+01,  ...,  5.6297e+00,\n",
       "            1.6355e+00, -1.3864e+00],\n",
       "          ...,\n",
       "          [ 5.5491e-01,  6.1152e+00,  8.7215e+00,  ...,  2.3972e+01,\n",
       "            4.3780e+00, -1.7115e+00],\n",
       "          [ 5.7940e-01, -2.4212e+00, -7.4729e+00,  ..., -5.0309e+00,\n",
       "            3.5955e+00, -1.5200e+00],\n",
       "          [ 1.6834e+00,  1.4029e+00, -1.3964e+01,  ...,  8.5002e-01,\n",
       "            5.1258e+00, -1.2170e+00]],\n",
       "\n",
       "         [[-1.2268e+00, -8.0247e-01, -8.4066e-01,  ...,  1.5109e-01,\n",
       "           -3.7830e+00, -4.4124e-01],\n",
       "          [-1.1515e+00, -3.0245e+00,  9.7303e-01,  ...,  5.1070e+00,\n",
       "            3.8578e-03, -1.3200e+00],\n",
       "          [-1.0938e+00, -6.9365e-03,  1.1918e+01,  ...,  1.1663e+01,\n",
       "            8.4174e-01, -8.9081e-01],\n",
       "          ...,\n",
       "          [-9.5190e-01,  5.1721e+00,  2.1867e+00,  ...,  4.6206e+00,\n",
       "           -8.5548e-02, -1.0782e+00],\n",
       "          [-6.7615e-01,  1.5590e+00, -7.0577e+00,  ...,  5.0753e+00,\n",
       "            2.0986e+00, -5.2428e-01],\n",
       "          [-6.2272e-01, -3.2183e+00,  2.7695e+00,  ..., -3.7159e+00,\n",
       "           -2.8160e+00, -1.4274e+00]]]],\n",
       "       grad_fn=<MaxPool2DWithIndicesBackward>)"
      ]
     },
     "execution_count": 49,
     "metadata": {},
     "output_type": "execute_result"
    }
   ],
   "source": [
    "backbone(data)"
   ]
  },
  {
   "cell_type": "code",
   "execution_count": null,
   "metadata": {},
   "outputs": [],
   "source": []
  }
 ],
 "metadata": {
  "file_extension": ".py",
  "kernelspec": {
   "display_name": "Python 3",
   "language": "python",
   "name": "python3"
  },
  "language_info": {
   "codemirror_mode": {
    "name": "ipython",
    "version": 3
   },
   "file_extension": ".py",
   "mimetype": "text/x-python",
   "name": "python",
   "nbconvert_exporter": "python",
   "pygments_lexer": "ipython3",
   "version": "3.7.3"
  },
  "mimetype": "text/x-python",
  "name": "python",
  "npconvert_exporter": "python",
  "pygments_lexer": "ipython3",
  "version": 3
 },
 "nbformat": 4,
 "nbformat_minor": 2
}
