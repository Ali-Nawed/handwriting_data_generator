{
 "cells": [
  {
   "cell_type": "code",
   "execution_count": 1,
   "metadata": {},
   "outputs": [],
   "source": [
    "from backbone_cnn import BackboneNet\n",
    "import torch.nn.functional as F\n",
    "import torch\n",
    "import torchvision\n",
    "import matplotlib.pyplot as plt\n",
    "import numpy as np"
   ]
  },
  {
   "cell_type": "code",
   "execution_count": 2,
   "metadata": {},
   "outputs": [
    {
     "data": {
      "text/plain": [
       "<torch._C.Generator at 0x7f2a2d7b5690>"
      ]
     },
     "execution_count": 2,
     "metadata": {},
     "output_type": "execute_result"
    }
   ],
   "source": [
    "n_epochs = 10\n",
    "batch_size_train = 100\n",
    "batch_size_test = 1000\n",
    "learning_rate = 0.01\n",
    "momentum = 0.5\n",
    "log_interval = 10\n",
    "\n",
    "random_seed = 1\n",
    "torch.backends.cudnn.enabled = True\n",
    "torch.device('cuda')\n",
    "torch.manual_seed(random_seed)"
   ]
  },
  {
   "cell_type": "code",
   "execution_count": 3,
   "metadata": {},
   "outputs": [],
   "source": [
    "train_loader = torch.utils.data.DataLoader(\n",
    "  torchvision.datasets.MNIST('../data/', train=True, download=True,\n",
    "                             transform=torchvision.transforms.Compose([\n",
    "                               torchvision.transforms.ToTensor(),\n",
    "                               torchvision.transforms.Normalize(\n",
    "                                 (0.1307,), (0.3081,))\n",
    "                             ])),\n",
    "  batch_size=batch_size_train, shuffle=True)\n",
    "\n",
    "test_loader = torch.utils.data.DataLoader(\n",
    "  torchvision.datasets.MNIST('../data/', train=False, download=True,\n",
    "                             transform=torchvision.transforms.Compose([\n",
    "                               torchvision.transforms.ToTensor(),\n",
    "                               torchvision.transforms.Normalize(\n",
    "                                 (0.1307,), (0.3081,))\n",
    "                             ])),\n",
    "  batch_size=batch_size_test, shuffle=False)"
   ]
  },
  {
   "cell_type": "code",
   "execution_count": 4,
   "metadata": {},
   "outputs": [],
   "source": [
    "import torch.optim as optim\n",
    "import torch.nn as nn\n",
    "from tqdm import tqdm"
   ]
  },
  {
   "cell_type": "code",
   "execution_count": 5,
   "metadata": {},
   "outputs": [],
   "source": [
    "net = BackboneNet()\n",
    "net.cuda()\n",
    "optimizer = optim.Adam(net.parameters(), lr=0.001)"
   ]
  },
  {
   "cell_type": "code",
   "execution_count": 6,
   "metadata": {},
   "outputs": [
    {
     "name": "stderr",
     "output_type": "stream",
     "text": [
      "0it [00:00, ?it/s]/home/ali/ml/handwriting_data_generator/model/backbone_cnn.py:30: UserWarning: Implicit dimension choice for log_softmax has been deprecated. Change the call to include dim=X as an argument.\n",
      "  return F.log_softmax(x)\n",
      "600it [00:10, 57.16it/s]\n",
      "6it [00:00, 57.12it/s]"
     ]
    },
    {
     "name": "stdout",
     "output_type": "stream",
     "text": [
      "epoch: 0 loss: 0.10959195345640182\n"
     ]
    },
    {
     "name": "stderr",
     "output_type": "stream",
     "text": [
      "600it [00:09, 66.05it/s]\n",
      "7it [00:00, 63.37it/s]"
     ]
    },
    {
     "name": "stdout",
     "output_type": "stream",
     "text": [
      "epoch: 1 loss: 0.055509522557258606\n"
     ]
    },
    {
     "name": "stderr",
     "output_type": "stream",
     "text": [
      "600it [00:10, 58.38it/s]\n",
      "6it [00:00, 56.50it/s]"
     ]
    },
    {
     "name": "stdout",
     "output_type": "stream",
     "text": [
      "epoch: 2 loss: 0.003278956515714526\n"
     ]
    },
    {
     "name": "stderr",
     "output_type": "stream",
     "text": [
      "600it [00:09, 58.92it/s]\n",
      "6it [00:00, 59.88it/s]"
     ]
    },
    {
     "name": "stdout",
     "output_type": "stream",
     "text": [
      "epoch: 3 loss: 0.021406210958957672\n"
     ]
    },
    {
     "name": "stderr",
     "output_type": "stream",
     "text": [
      "600it [00:09, 65.78it/s]\n",
      "7it [00:00, 62.48it/s]"
     ]
    },
    {
     "name": "stdout",
     "output_type": "stream",
     "text": [
      "epoch: 4 loss: 0.016488047316670418\n"
     ]
    },
    {
     "name": "stderr",
     "output_type": "stream",
     "text": [
      "600it [00:10, 59.68it/s]\n",
      "6it [00:00, 55.45it/s]"
     ]
    },
    {
     "name": "stdout",
     "output_type": "stream",
     "text": [
      "epoch: 5 loss: 0.0012833785731345415\n"
     ]
    },
    {
     "name": "stderr",
     "output_type": "stream",
     "text": [
      "600it [00:10, 61.11it/s]\n",
      "6it [00:00, 55.05it/s]"
     ]
    },
    {
     "name": "stdout",
     "output_type": "stream",
     "text": [
      "epoch: 6 loss: 0.020111609250307083\n"
     ]
    },
    {
     "name": "stderr",
     "output_type": "stream",
     "text": [
      "600it [00:10, 59.36it/s]\n",
      "7it [00:00, 62.30it/s]"
     ]
    },
    {
     "name": "stdout",
     "output_type": "stream",
     "text": [
      "epoch: 7 loss: 0.009711517952382565\n"
     ]
    },
    {
     "name": "stderr",
     "output_type": "stream",
     "text": [
      "600it [00:10, 55.62it/s]\n",
      "6it [00:00, 56.56it/s]"
     ]
    },
    {
     "name": "stdout",
     "output_type": "stream",
     "text": [
      "epoch: 8 loss: 0.004771232604980469\n"
     ]
    },
    {
     "name": "stderr",
     "output_type": "stream",
     "text": [
      "600it [00:10, 56.11it/s]"
     ]
    },
    {
     "name": "stdout",
     "output_type": "stream",
     "text": [
      "epoch: 9 loss: 0.0013767242198809981\n"
     ]
    },
    {
     "name": "stderr",
     "output_type": "stream",
     "text": [
      "\n"
     ]
    }
   ],
   "source": [
    "running_loss = 0.0\n",
    "for epoch in range(n_epochs):\n",
    "    \n",
    "    for idx, (data, target) in tqdm(enumerate(train_loader)):\n",
    "        target = target.to('cuda:0')\n",
    "        data = data.to('cuda:0')\n",
    "        optimizer.zero_grad()\n",
    "        output = net(data)\n",
    "        loss =  F.nll_loss(output, target) \n",
    "        loss.backward()\n",
    "        optimizer.step()\n",
    "    print(f\"epoch: {epoch} loss: {loss.item()}\")"
   ]
  },
  {
   "cell_type": "code",
   "execution_count": 7,
   "metadata": {},
   "outputs": [
    {
     "data": {
      "text/plain": [
       "0.0013767242198809981"
      ]
     },
     "execution_count": 7,
     "metadata": {},
     "output_type": "execute_result"
    }
   ],
   "source": [
    "loss.item()"
   ]
  },
  {
   "cell_type": "code",
   "execution_count": 8,
   "metadata": {},
   "outputs": [
    {
     "data": {
      "text/plain": [
       "True"
      ]
     },
     "execution_count": 8,
     "metadata": {},
     "output_type": "execute_result"
    }
   ],
   "source": [
    "torch.cuda.is_available()"
   ]
  },
  {
   "cell_type": "code",
   "execution_count": 9,
   "metadata": {},
   "outputs": [
    {
     "data": {
      "text/plain": [
       "BackboneNet(\n",
       "  (conv1): Conv2d(1, 32, kernel_size=(5, 5), stride=(1, 1), padding=(2, 2))\n",
       "  (pool): MaxPool2d(kernel_size=2, stride=2, padding=0, dilation=1, ceil_mode=False)\n",
       "  (conv2): Conv2d(32, 64, kernel_size=(5, 5), stride=(1, 1), padding=(2, 2))\n",
       "  (conv2_drop): Dropout2d(p=0.5, inplace=False)\n",
       "  (fc1): Linear(in_features=3136, out_features=50, bias=True)\n",
       "  (fc2): Linear(in_features=50, out_features=10, bias=True)\n",
       ")"
      ]
     },
     "execution_count": 9,
     "metadata": {},
     "output_type": "execute_result"
    }
   ],
   "source": [
    "net.eval()"
   ]
  },
  {
   "cell_type": "code",
   "execution_count": 10,
   "metadata": {},
   "outputs": [
    {
     "name": "stdout",
     "output_type": "stream",
     "text": [
      "0.991\n",
      "0.988\n",
      "0.978\n",
      "0.987\n",
      "0.991\n",
      "0.996\n",
      "0.995\n",
      "1.0\n",
      "0.998\n",
      "0.991\n"
     ]
    }
   ],
   "source": [
    "def test(mynet):\n",
    "    for data,target in test_loader:\n",
    "        data = data.to('cuda:0')\n",
    "        target = target.to('cuda:0')\n",
    "        x=mynet(data).data.argmax(1).eq(target).sum()\n",
    "        print(x.item()/len(target))\n",
    "test(net)"
   ]
  },
  {
   "cell_type": "code",
   "execution_count": 11,
   "metadata": {},
   "outputs": [],
   "source": [
    "torch.save(net.state_dict(), 'backbone_net')"
   ]
  },
  {
   "cell_type": "code",
   "execution_count": 14,
   "metadata": {},
   "outputs": [
    {
     "data": {
      "text/plain": [
       "BackboneNet(\n",
       "  (conv1): Conv2d(1, 32, kernel_size=(5, 5), stride=(1, 1), padding=(2, 2))\n",
       "  (pool): MaxPool2d(kernel_size=2, stride=2, padding=0, dilation=1, ceil_mode=False)\n",
       "  (conv2): Conv2d(32, 64, kernel_size=(5, 5), stride=(1, 1), padding=(2, 2))\n",
       "  (conv2_drop): Dropout2d(p=0.5, inplace=False)\n",
       "  (fc1): Linear(in_features=3136, out_features=50, bias=True)\n",
       "  (fc2): Linear(in_features=50, out_features=10, bias=True)\n",
       ")"
      ]
     },
     "execution_count": 14,
     "metadata": {},
     "output_type": "execute_result"
    }
   ],
   "source": [
    "new_net = BackboneNet()\n",
    "new_net.cuda()"
   ]
  },
  {
   "cell_type": "code",
   "execution_count": 15,
   "metadata": {},
   "outputs": [
    {
     "name": "stdout",
     "output_type": "stream",
     "text": [
      "0.089\n",
      "0.097\n",
      "0.088\n",
      "0.092\n",
      "0.074\n",
      "0.086\n",
      "0.097\n",
      "0.083\n",
      "0.095\n",
      "0.088\n"
     ]
    }
   ],
   "source": [
    "test(new_net)"
   ]
  },
  {
   "cell_type": "code",
   "execution_count": 16,
   "metadata": {},
   "outputs": [
    {
     "data": {
      "text/plain": [
       "<All keys matched successfully>"
      ]
     },
     "execution_count": 16,
     "metadata": {},
     "output_type": "execute_result"
    }
   ],
   "source": [
    "new_net.load_state_dict(torch.load('backbone_net'))"
   ]
  },
  {
   "cell_type": "code",
   "execution_count": 17,
   "metadata": {},
   "outputs": [
    {
     "name": "stdout",
     "output_type": "stream",
     "text": [
      "0.991\n",
      "0.988\n",
      "0.978\n",
      "0.987\n",
      "0.991\n",
      "0.996\n",
      "0.995\n",
      "1.0\n",
      "0.998\n",
      "0.991\n"
     ]
    }
   ],
   "source": [
    "test(new_net)"
   ]
  },
  {
   "cell_type": "code",
   "execution_count": 18,
   "metadata": {},
   "outputs": [
    {
     "data": {
      "text/plain": [
       "BackboneNet(\n",
       "  (conv1): Conv2d(1, 32, kernel_size=(5, 5), stride=(1, 1), padding=(2, 2))\n",
       "  (pool): MaxPool2d(kernel_size=2, stride=2, padding=0, dilation=1, ceil_mode=False)\n",
       "  (conv2): Conv2d(32, 64, kernel_size=(5, 5), stride=(1, 1), padding=(2, 2))\n",
       "  (conv2_drop): Dropout2d(p=0.5, inplace=False)\n",
       "  (fc1): Linear(in_features=3136, out_features=50, bias=True)\n",
       "  (fc2): Linear(in_features=50, out_features=10, bias=True)\n",
       ")"
      ]
     },
     "execution_count": 18,
     "metadata": {},
     "output_type": "execute_result"
    }
   ],
   "source": [
    "net.eval()"
   ]
  },
  {
   "cell_type": "code",
   "execution_count": 19,
   "metadata": {},
   "outputs": [
    {
     "data": {
      "text/plain": [
       "Conv2d(1, 32, kernel_size=(5, 5), stride=(1, 1), padding=(2, 2))"
      ]
     },
     "execution_count": 19,
     "metadata": {},
     "output_type": "execute_result"
    }
   ],
   "source": [
    "net.conv1"
   ]
  },
  {
   "cell_type": "code",
   "execution_count": 20,
   "metadata": {},
   "outputs": [],
   "source": [
    "backbone = torchvision.models.mobilenet_v2(pretrained=True).features"
   ]
  },
  {
   "cell_type": "code",
   "execution_count": 21,
   "metadata": {},
   "outputs": [
    {
     "data": {
      "text/plain": [
       "Sequential(\n",
       "  (0): ConvBNReLU(\n",
       "    (0): Conv2d(3, 32, kernel_size=(3, 3), stride=(2, 2), padding=(1, 1), bias=False)\n",
       "    (1): BatchNorm2d(32, eps=1e-05, momentum=0.1, affine=True, track_running_stats=True)\n",
       "    (2): ReLU6(inplace=True)\n",
       "  )\n",
       "  (1): InvertedResidual(\n",
       "    (conv): Sequential(\n",
       "      (0): ConvBNReLU(\n",
       "        (0): Conv2d(32, 32, kernel_size=(3, 3), stride=(1, 1), padding=(1, 1), groups=32, bias=False)\n",
       "        (1): BatchNorm2d(32, eps=1e-05, momentum=0.1, affine=True, track_running_stats=True)\n",
       "        (2): ReLU6(inplace=True)\n",
       "      )\n",
       "      (1): Conv2d(32, 16, kernel_size=(1, 1), stride=(1, 1), bias=False)\n",
       "      (2): BatchNorm2d(16, eps=1e-05, momentum=0.1, affine=True, track_running_stats=True)\n",
       "    )\n",
       "  )\n",
       "  (2): InvertedResidual(\n",
       "    (conv): Sequential(\n",
       "      (0): ConvBNReLU(\n",
       "        (0): Conv2d(16, 96, kernel_size=(1, 1), stride=(1, 1), bias=False)\n",
       "        (1): BatchNorm2d(96, eps=1e-05, momentum=0.1, affine=True, track_running_stats=True)\n",
       "        (2): ReLU6(inplace=True)\n",
       "      )\n",
       "      (1): ConvBNReLU(\n",
       "        (0): Conv2d(96, 96, kernel_size=(3, 3), stride=(2, 2), padding=(1, 1), groups=96, bias=False)\n",
       "        (1): BatchNorm2d(96, eps=1e-05, momentum=0.1, affine=True, track_running_stats=True)\n",
       "        (2): ReLU6(inplace=True)\n",
       "      )\n",
       "      (2): Conv2d(96, 24, kernel_size=(1, 1), stride=(1, 1), bias=False)\n",
       "      (3): BatchNorm2d(24, eps=1e-05, momentum=0.1, affine=True, track_running_stats=True)\n",
       "    )\n",
       "  )\n",
       "  (3): InvertedResidual(\n",
       "    (conv): Sequential(\n",
       "      (0): ConvBNReLU(\n",
       "        (0): Conv2d(24, 144, kernel_size=(1, 1), stride=(1, 1), bias=False)\n",
       "        (1): BatchNorm2d(144, eps=1e-05, momentum=0.1, affine=True, track_running_stats=True)\n",
       "        (2): ReLU6(inplace=True)\n",
       "      )\n",
       "      (1): ConvBNReLU(\n",
       "        (0): Conv2d(144, 144, kernel_size=(3, 3), stride=(1, 1), padding=(1, 1), groups=144, bias=False)\n",
       "        (1): BatchNorm2d(144, eps=1e-05, momentum=0.1, affine=True, track_running_stats=True)\n",
       "        (2): ReLU6(inplace=True)\n",
       "      )\n",
       "      (2): Conv2d(144, 24, kernel_size=(1, 1), stride=(1, 1), bias=False)\n",
       "      (3): BatchNorm2d(24, eps=1e-05, momentum=0.1, affine=True, track_running_stats=True)\n",
       "    )\n",
       "  )\n",
       "  (4): InvertedResidual(\n",
       "    (conv): Sequential(\n",
       "      (0): ConvBNReLU(\n",
       "        (0): Conv2d(24, 144, kernel_size=(1, 1), stride=(1, 1), bias=False)\n",
       "        (1): BatchNorm2d(144, eps=1e-05, momentum=0.1, affine=True, track_running_stats=True)\n",
       "        (2): ReLU6(inplace=True)\n",
       "      )\n",
       "      (1): ConvBNReLU(\n",
       "        (0): Conv2d(144, 144, kernel_size=(3, 3), stride=(2, 2), padding=(1, 1), groups=144, bias=False)\n",
       "        (1): BatchNorm2d(144, eps=1e-05, momentum=0.1, affine=True, track_running_stats=True)\n",
       "        (2): ReLU6(inplace=True)\n",
       "      )\n",
       "      (2): Conv2d(144, 32, kernel_size=(1, 1), stride=(1, 1), bias=False)\n",
       "      (3): BatchNorm2d(32, eps=1e-05, momentum=0.1, affine=True, track_running_stats=True)\n",
       "    )\n",
       "  )\n",
       "  (5): InvertedResidual(\n",
       "    (conv): Sequential(\n",
       "      (0): ConvBNReLU(\n",
       "        (0): Conv2d(32, 192, kernel_size=(1, 1), stride=(1, 1), bias=False)\n",
       "        (1): BatchNorm2d(192, eps=1e-05, momentum=0.1, affine=True, track_running_stats=True)\n",
       "        (2): ReLU6(inplace=True)\n",
       "      )\n",
       "      (1): ConvBNReLU(\n",
       "        (0): Conv2d(192, 192, kernel_size=(3, 3), stride=(1, 1), padding=(1, 1), groups=192, bias=False)\n",
       "        (1): BatchNorm2d(192, eps=1e-05, momentum=0.1, affine=True, track_running_stats=True)\n",
       "        (2): ReLU6(inplace=True)\n",
       "      )\n",
       "      (2): Conv2d(192, 32, kernel_size=(1, 1), stride=(1, 1), bias=False)\n",
       "      (3): BatchNorm2d(32, eps=1e-05, momentum=0.1, affine=True, track_running_stats=True)\n",
       "    )\n",
       "  )\n",
       "  (6): InvertedResidual(\n",
       "    (conv): Sequential(\n",
       "      (0): ConvBNReLU(\n",
       "        (0): Conv2d(32, 192, kernel_size=(1, 1), stride=(1, 1), bias=False)\n",
       "        (1): BatchNorm2d(192, eps=1e-05, momentum=0.1, affine=True, track_running_stats=True)\n",
       "        (2): ReLU6(inplace=True)\n",
       "      )\n",
       "      (1): ConvBNReLU(\n",
       "        (0): Conv2d(192, 192, kernel_size=(3, 3), stride=(1, 1), padding=(1, 1), groups=192, bias=False)\n",
       "        (1): BatchNorm2d(192, eps=1e-05, momentum=0.1, affine=True, track_running_stats=True)\n",
       "        (2): ReLU6(inplace=True)\n",
       "      )\n",
       "      (2): Conv2d(192, 32, kernel_size=(1, 1), stride=(1, 1), bias=False)\n",
       "      (3): BatchNorm2d(32, eps=1e-05, momentum=0.1, affine=True, track_running_stats=True)\n",
       "    )\n",
       "  )\n",
       "  (7): InvertedResidual(\n",
       "    (conv): Sequential(\n",
       "      (0): ConvBNReLU(\n",
       "        (0): Conv2d(32, 192, kernel_size=(1, 1), stride=(1, 1), bias=False)\n",
       "        (1): BatchNorm2d(192, eps=1e-05, momentum=0.1, affine=True, track_running_stats=True)\n",
       "        (2): ReLU6(inplace=True)\n",
       "      )\n",
       "      (1): ConvBNReLU(\n",
       "        (0): Conv2d(192, 192, kernel_size=(3, 3), stride=(2, 2), padding=(1, 1), groups=192, bias=False)\n",
       "        (1): BatchNorm2d(192, eps=1e-05, momentum=0.1, affine=True, track_running_stats=True)\n",
       "        (2): ReLU6(inplace=True)\n",
       "      )\n",
       "      (2): Conv2d(192, 64, kernel_size=(1, 1), stride=(1, 1), bias=False)\n",
       "      (3): BatchNorm2d(64, eps=1e-05, momentum=0.1, affine=True, track_running_stats=True)\n",
       "    )\n",
       "  )\n",
       "  (8): InvertedResidual(\n",
       "    (conv): Sequential(\n",
       "      (0): ConvBNReLU(\n",
       "        (0): Conv2d(64, 384, kernel_size=(1, 1), stride=(1, 1), bias=False)\n",
       "        (1): BatchNorm2d(384, eps=1e-05, momentum=0.1, affine=True, track_running_stats=True)\n",
       "        (2): ReLU6(inplace=True)\n",
       "      )\n",
       "      (1): ConvBNReLU(\n",
       "        (0): Conv2d(384, 384, kernel_size=(3, 3), stride=(1, 1), padding=(1, 1), groups=384, bias=False)\n",
       "        (1): BatchNorm2d(384, eps=1e-05, momentum=0.1, affine=True, track_running_stats=True)\n",
       "        (2): ReLU6(inplace=True)\n",
       "      )\n",
       "      (2): Conv2d(384, 64, kernel_size=(1, 1), stride=(1, 1), bias=False)\n",
       "      (3): BatchNorm2d(64, eps=1e-05, momentum=0.1, affine=True, track_running_stats=True)\n",
       "    )\n",
       "  )\n",
       "  (9): InvertedResidual(\n",
       "    (conv): Sequential(\n",
       "      (0): ConvBNReLU(\n",
       "        (0): Conv2d(64, 384, kernel_size=(1, 1), stride=(1, 1), bias=False)\n",
       "        (1): BatchNorm2d(384, eps=1e-05, momentum=0.1, affine=True, track_running_stats=True)\n",
       "        (2): ReLU6(inplace=True)\n",
       "      )\n",
       "      (1): ConvBNReLU(\n",
       "        (0): Conv2d(384, 384, kernel_size=(3, 3), stride=(1, 1), padding=(1, 1), groups=384, bias=False)\n",
       "        (1): BatchNorm2d(384, eps=1e-05, momentum=0.1, affine=True, track_running_stats=True)\n",
       "        (2): ReLU6(inplace=True)\n",
       "      )\n",
       "      (2): Conv2d(384, 64, kernel_size=(1, 1), stride=(1, 1), bias=False)\n",
       "      (3): BatchNorm2d(64, eps=1e-05, momentum=0.1, affine=True, track_running_stats=True)\n",
       "    )\n",
       "  )\n",
       "  (10): InvertedResidual(\n",
       "    (conv): Sequential(\n",
       "      (0): ConvBNReLU(\n",
       "        (0): Conv2d(64, 384, kernel_size=(1, 1), stride=(1, 1), bias=False)\n",
       "        (1): BatchNorm2d(384, eps=1e-05, momentum=0.1, affine=True, track_running_stats=True)\n",
       "        (2): ReLU6(inplace=True)\n",
       "      )\n",
       "      (1): ConvBNReLU(\n",
       "        (0): Conv2d(384, 384, kernel_size=(3, 3), stride=(1, 1), padding=(1, 1), groups=384, bias=False)\n",
       "        (1): BatchNorm2d(384, eps=1e-05, momentum=0.1, affine=True, track_running_stats=True)\n",
       "        (2): ReLU6(inplace=True)\n",
       "      )\n",
       "      (2): Conv2d(384, 64, kernel_size=(1, 1), stride=(1, 1), bias=False)\n",
       "      (3): BatchNorm2d(64, eps=1e-05, momentum=0.1, affine=True, track_running_stats=True)\n",
       "    )\n",
       "  )\n",
       "  (11): InvertedResidual(\n",
       "    (conv): Sequential(\n",
       "      (0): ConvBNReLU(\n",
       "        (0): Conv2d(64, 384, kernel_size=(1, 1), stride=(1, 1), bias=False)\n",
       "        (1): BatchNorm2d(384, eps=1e-05, momentum=0.1, affine=True, track_running_stats=True)\n",
       "        (2): ReLU6(inplace=True)\n",
       "      )\n",
       "      (1): ConvBNReLU(\n",
       "        (0): Conv2d(384, 384, kernel_size=(3, 3), stride=(1, 1), padding=(1, 1), groups=384, bias=False)\n",
       "        (1): BatchNorm2d(384, eps=1e-05, momentum=0.1, affine=True, track_running_stats=True)\n",
       "        (2): ReLU6(inplace=True)\n",
       "      )\n",
       "      (2): Conv2d(384, 96, kernel_size=(1, 1), stride=(1, 1), bias=False)\n",
       "      (3): BatchNorm2d(96, eps=1e-05, momentum=0.1, affine=True, track_running_stats=True)\n",
       "    )\n",
       "  )\n",
       "  (12): InvertedResidual(\n",
       "    (conv): Sequential(\n",
       "      (0): ConvBNReLU(\n",
       "        (0): Conv2d(96, 576, kernel_size=(1, 1), stride=(1, 1), bias=False)\n",
       "        (1): BatchNorm2d(576, eps=1e-05, momentum=0.1, affine=True, track_running_stats=True)\n",
       "        (2): ReLU6(inplace=True)\n",
       "      )\n",
       "      (1): ConvBNReLU(\n",
       "        (0): Conv2d(576, 576, kernel_size=(3, 3), stride=(1, 1), padding=(1, 1), groups=576, bias=False)\n",
       "        (1): BatchNorm2d(576, eps=1e-05, momentum=0.1, affine=True, track_running_stats=True)\n",
       "        (2): ReLU6(inplace=True)\n",
       "      )\n",
       "      (2): Conv2d(576, 96, kernel_size=(1, 1), stride=(1, 1), bias=False)\n",
       "      (3): BatchNorm2d(96, eps=1e-05, momentum=0.1, affine=True, track_running_stats=True)\n",
       "    )\n",
       "  )\n",
       "  (13): InvertedResidual(\n",
       "    (conv): Sequential(\n",
       "      (0): ConvBNReLU(\n",
       "        (0): Conv2d(96, 576, kernel_size=(1, 1), stride=(1, 1), bias=False)\n",
       "        (1): BatchNorm2d(576, eps=1e-05, momentum=0.1, affine=True, track_running_stats=True)\n",
       "        (2): ReLU6(inplace=True)\n",
       "      )\n",
       "      (1): ConvBNReLU(\n",
       "        (0): Conv2d(576, 576, kernel_size=(3, 3), stride=(1, 1), padding=(1, 1), groups=576, bias=False)\n",
       "        (1): BatchNorm2d(576, eps=1e-05, momentum=0.1, affine=True, track_running_stats=True)\n",
       "        (2): ReLU6(inplace=True)\n",
       "      )\n",
       "      (2): Conv2d(576, 96, kernel_size=(1, 1), stride=(1, 1), bias=False)\n",
       "      (3): BatchNorm2d(96, eps=1e-05, momentum=0.1, affine=True, track_running_stats=True)\n",
       "    )\n",
       "  )\n",
       "  (14): InvertedResidual(\n",
       "    (conv): Sequential(\n",
       "      (0): ConvBNReLU(\n",
       "        (0): Conv2d(96, 576, kernel_size=(1, 1), stride=(1, 1), bias=False)\n",
       "        (1): BatchNorm2d(576, eps=1e-05, momentum=0.1, affine=True, track_running_stats=True)\n",
       "        (2): ReLU6(inplace=True)\n",
       "      )\n",
       "      (1): ConvBNReLU(\n",
       "        (0): Conv2d(576, 576, kernel_size=(3, 3), stride=(2, 2), padding=(1, 1), groups=576, bias=False)\n",
       "        (1): BatchNorm2d(576, eps=1e-05, momentum=0.1, affine=True, track_running_stats=True)\n",
       "        (2): ReLU6(inplace=True)\n",
       "      )\n",
       "      (2): Conv2d(576, 160, kernel_size=(1, 1), stride=(1, 1), bias=False)\n",
       "      (3): BatchNorm2d(160, eps=1e-05, momentum=0.1, affine=True, track_running_stats=True)\n",
       "    )\n",
       "  )\n",
       "  (15): InvertedResidual(\n",
       "    (conv): Sequential(\n",
       "      (0): ConvBNReLU(\n",
       "        (0): Conv2d(160, 960, kernel_size=(1, 1), stride=(1, 1), bias=False)\n",
       "        (1): BatchNorm2d(960, eps=1e-05, momentum=0.1, affine=True, track_running_stats=True)\n",
       "        (2): ReLU6(inplace=True)\n",
       "      )\n",
       "      (1): ConvBNReLU(\n",
       "        (0): Conv2d(960, 960, kernel_size=(3, 3), stride=(1, 1), padding=(1, 1), groups=960, bias=False)\n",
       "        (1): BatchNorm2d(960, eps=1e-05, momentum=0.1, affine=True, track_running_stats=True)\n",
       "        (2): ReLU6(inplace=True)\n",
       "      )\n",
       "      (2): Conv2d(960, 160, kernel_size=(1, 1), stride=(1, 1), bias=False)\n",
       "      (3): BatchNorm2d(160, eps=1e-05, momentum=0.1, affine=True, track_running_stats=True)\n",
       "    )\n",
       "  )\n",
       "  (16): InvertedResidual(\n",
       "    (conv): Sequential(\n",
       "      (0): ConvBNReLU(\n",
       "        (0): Conv2d(160, 960, kernel_size=(1, 1), stride=(1, 1), bias=False)\n",
       "        (1): BatchNorm2d(960, eps=1e-05, momentum=0.1, affine=True, track_running_stats=True)\n",
       "        (2): ReLU6(inplace=True)\n",
       "      )\n",
       "      (1): ConvBNReLU(\n",
       "        (0): Conv2d(960, 960, kernel_size=(3, 3), stride=(1, 1), padding=(1, 1), groups=960, bias=False)\n",
       "        (1): BatchNorm2d(960, eps=1e-05, momentum=0.1, affine=True, track_running_stats=True)\n",
       "        (2): ReLU6(inplace=True)\n",
       "      )\n",
       "      (2): Conv2d(960, 160, kernel_size=(1, 1), stride=(1, 1), bias=False)\n",
       "      (3): BatchNorm2d(160, eps=1e-05, momentum=0.1, affine=True, track_running_stats=True)\n",
       "    )\n",
       "  )\n",
       "  (17): InvertedResidual(\n",
       "    (conv): Sequential(\n",
       "      (0): ConvBNReLU(\n",
       "        (0): Conv2d(160, 960, kernel_size=(1, 1), stride=(1, 1), bias=False)\n",
       "        (1): BatchNorm2d(960, eps=1e-05, momentum=0.1, affine=True, track_running_stats=True)\n",
       "        (2): ReLU6(inplace=True)\n",
       "      )\n",
       "      (1): ConvBNReLU(\n",
       "        (0): Conv2d(960, 960, kernel_size=(3, 3), stride=(1, 1), padding=(1, 1), groups=960, bias=False)\n",
       "        (1): BatchNorm2d(960, eps=1e-05, momentum=0.1, affine=True, track_running_stats=True)\n",
       "        (2): ReLU6(inplace=True)\n",
       "      )\n",
       "      (2): Conv2d(960, 320, kernel_size=(1, 1), stride=(1, 1), bias=False)\n",
       "      (3): BatchNorm2d(320, eps=1e-05, momentum=0.1, affine=True, track_running_stats=True)\n",
       "    )\n",
       "  )\n",
       "  (18): ConvBNReLU(\n",
       "    (0): Conv2d(320, 1280, kernel_size=(1, 1), stride=(1, 1), bias=False)\n",
       "    (1): BatchNorm2d(1280, eps=1e-05, momentum=0.1, affine=True, track_running_stats=True)\n",
       "    (2): ReLU6(inplace=True)\n",
       "  )\n",
       ")"
      ]
     },
     "execution_count": 21,
     "metadata": {},
     "output_type": "execute_result"
    }
   ],
   "source": [
    "backbone"
   ]
  },
  {
   "cell_type": "code",
   "execution_count": 23,
   "metadata": {},
   "outputs": [],
   "source": [
    "backbone = nn.Sequential(net.conv1, net.pool, net.conv2, net.conv2_drop, net.pool)"
   ]
  },
  {
   "cell_type": "code",
   "execution_count": 24,
   "metadata": {},
   "outputs": [
    {
     "data": {
      "text/plain": [
       "Sequential(\n",
       "  (0): Conv2d(1, 32, kernel_size=(5, 5), stride=(1, 1), padding=(2, 2))\n",
       "  (1): MaxPool2d(kernel_size=2, stride=2, padding=0, dilation=1, ceil_mode=False)\n",
       "  (2): Conv2d(32, 64, kernel_size=(5, 5), stride=(1, 1), padding=(2, 2))\n",
       "  (3): Dropout2d(p=0.5, inplace=False)\n",
       "  (4): MaxPool2d(kernel_size=2, stride=2, padding=0, dilation=1, ceil_mode=False)\n",
       ")"
      ]
     },
     "execution_count": 24,
     "metadata": {},
     "output_type": "execute_result"
    }
   ],
   "source": [
    "backbone"
   ]
  },
  {
   "cell_type": "code",
   "execution_count": 25,
   "metadata": {},
   "outputs": [],
   "source": [
    "import torchvision\n",
    "from torchvision.models.detection import FasterRCNN\n",
    "from torchvision.models.detection.rpn import AnchorGenerator"
   ]
  },
  {
   "cell_type": "code",
   "execution_count": 26,
   "metadata": {},
   "outputs": [],
   "source": [
    "anchor_generator = AnchorGenerator(sizes=((5, 10, 20, 50),),\n",
    "                                   aspect_ratios=((0.5, 1.0, 2.0),))"
   ]
  },
  {
   "cell_type": "code",
   "execution_count": 27,
   "metadata": {},
   "outputs": [],
   "source": [
    "backbone.out_channels = 64"
   ]
  },
  {
   "cell_type": "code",
   "execution_count": 28,
   "metadata": {},
   "outputs": [
    {
     "data": {
      "text/plain": [
       "tensor([[[[ 7.4644e-01,  1.7188e+00,  1.4526e+00,  ...,  1.4700e+00,\n",
       "            4.0721e+00,  1.8094e+00],\n",
       "          [ 7.6510e-01,  1.5074e+00,  1.8750e+00,  ..., -7.0608e+00,\n",
       "            1.9860e+00,  1.4626e+00],\n",
       "          [ 7.6510e-01,  1.6514e+00,  5.4253e+00,  ..., -9.7108e+00,\n",
       "            1.6626e+00,  9.1714e-01],\n",
       "          ...,\n",
       "          [ 7.6510e-01,  1.8049e+00,  5.8131e-01,  ..., -7.6878e-01,\n",
       "            1.5981e+00,  1.4038e+00],\n",
       "          [ 7.6510e-01,  3.7615e+00, -1.1383e+01,  ...,  8.8997e-01,\n",
       "            2.0158e+00,  1.0495e+00],\n",
       "          [ 1.5934e+00,  5.0048e+00,  5.1727e+00,  ...,  2.2145e+00,\n",
       "            2.1670e+00,  1.5093e+00]],\n",
       "\n",
       "         [[-1.4061e-01, -2.2798e+00, -2.0776e+00,  ..., -1.9035e+00,\n",
       "            3.3380e+00, -1.2636e+00],\n",
       "          [ 5.1966e-01, -1.1106e+00, -1.8510e-01,  ...,  1.6633e+01,\n",
       "            1.4323e+01, -6.0197e-01],\n",
       "          [ 5.1966e-01, -1.0428e+00,  7.5726e+00,  ...,  1.9028e+01,\n",
       "            1.0614e+01, -9.1234e-01],\n",
       "          ...,\n",
       "          [ 5.1966e-01,  4.9939e+00,  9.9221e+00,  ...,  1.2890e+01,\n",
       "           -2.3674e+00, -4.8230e-01],\n",
       "          [ 1.1703e+00,  5.7713e+00, -5.9678e+00,  ..., -2.6245e+00,\n",
       "           -2.3862e-01,  5.5490e-01],\n",
       "          [ 3.5734e-01, -3.2005e-01, -3.8580e+00,  ..., -1.5500e+00,\n",
       "           -5.3220e-01, -8.2949e-02]],\n",
       "\n",
       "         [[-1.6231e+00, -2.1090e+00, -2.4513e+00,  ...,  4.7800e-01,\n",
       "           -1.7008e+00, -1.3742e+00],\n",
       "          [-1.2243e+00, -1.3661e+00, -2.3126e+00,  ...,  2.8097e+00,\n",
       "            5.2133e-01, -1.1607e+00],\n",
       "          [-1.3143e+00, -1.3661e+00, -1.0395e+00,  ...,  3.1506e-01,\n",
       "            2.0072e-01, -1.2434e+00],\n",
       "          ...,\n",
       "          [-1.3143e+00,  1.9832e+00,  7.4627e+00,  ..., -3.7436e+00,\n",
       "           -2.2347e+00, -1.1070e+00],\n",
       "          [-1.3143e+00,  4.6875e+00, -1.2324e+00,  ..., -3.3440e+00,\n",
       "           -2.0724e+00, -1.1069e+00],\n",
       "          [-5.6735e-01, -5.8684e-01, -1.9838e+00,  ..., -1.0756e+00,\n",
       "           -2.3862e-01, -1.0093e-02]],\n",
       "\n",
       "         ...,\n",
       "\n",
       "         [[ 7.7449e-01,  1.4915e+00,  1.1079e+00,  ...,  2.3925e+00,\n",
       "           -5.2975e-01,  1.1609e+00],\n",
       "          [ 4.7848e-01,  9.0818e-01,  2.9482e+00,  ..., -8.6057e+00,\n",
       "           -4.0621e+00,  9.1372e-01],\n",
       "          [ 1.5477e-01,  6.3438e-01,  2.5459e+00,  ..., -8.0902e+00,\n",
       "            1.1047e+00,  9.1372e-01],\n",
       "          ...,\n",
       "          [ 1.5477e-01,  3.4280e+00,  3.6091e+00,  ..., -8.3493e-01,\n",
       "            3.4214e+00,  9.7694e-01],\n",
       "          [ 4.9507e-01,  1.4323e+00, -5.0446e+00,  ...,  3.4138e+00,\n",
       "            1.6846e+00,  1.4950e+00],\n",
       "          [ 4.7924e-01, -7.5647e-02,  4.5912e+00,  ...,  2.9584e+00,\n",
       "            8.8800e-01,  1.1648e+00]],\n",
       "\n",
       "         [[-1.0693e+00, -1.6576e+00, -1.8544e+00,  ...,  3.9790e+00,\n",
       "           -2.3847e+00, -8.0345e-01],\n",
       "          [ 6.7030e-01, -9.8949e-01, -4.4340e-01,  ...,  1.1414e+01,\n",
       "           -1.7332e+00, -2.1471e+00],\n",
       "          [ 5.4485e-01, -9.8949e-01,  6.1806e+00,  ...,  1.1249e+00,\n",
       "            3.8802e+00, -1.6992e+00],\n",
       "          ...,\n",
       "          [ 5.4485e-01, -4.0664e-01,  4.3748e+00,  ...,  6.5217e+00,\n",
       "            3.3219e+00, -1.2029e+00],\n",
       "          [ 5.4945e-01,  3.6621e-01, -1.0150e+01,  ...,  5.2907e+00,\n",
       "           -1.1557e+00, -1.1963e+00],\n",
       "          [ 1.7446e+00,  2.1692e+00, -5.8429e+00,  ...,  4.0992e+00,\n",
       "            7.1756e-01, -2.3726e-01]],\n",
       "\n",
       "         [[-6.3908e-01, -5.9794e-01, -7.2831e-01,  ..., -4.2660e+00,\n",
       "           -4.6651e+00,  1.8131e-01],\n",
       "          [-8.9029e-01, -1.0298e+00, -2.4901e+00,  ..., -5.2272e+00,\n",
       "            1.3563e+00, -2.9019e-01],\n",
       "          [-8.9029e-01, -1.0298e+00, -9.8970e-01,  ..., -3.7368e+00,\n",
       "            3.0719e+00, -2.9019e-01],\n",
       "          ...,\n",
       "          [-8.9029e-01, -2.3998e+00,  1.4057e+01,  ...,  4.0078e+00,\n",
       "           -1.7098e+00, -2.9019e-01],\n",
       "          [-8.9029e-01,  2.5809e+00,  1.2378e+01,  ...,  5.9607e-01,\n",
       "           -1.6874e+00, -2.9019e-01],\n",
       "          [-4.4392e-01, -4.7943e-01, -7.5412e+00,  ..., -1.3737e+00,\n",
       "           -1.1981e+00, -7.3638e-01]]],\n",
       "\n",
       "\n",
       "        [[[ 7.4644e-01,  1.7188e+00,  2.9325e+00,  ...,  2.5057e+00,\n",
       "            1.5249e+00,  1.4821e+00],\n",
       "          [ 7.6510e-01,  1.8564e+00,  4.3290e+00,  ...,  3.7990e+00,\n",
       "            5.7580e+00,  2.1450e+00],\n",
       "          [ 7.6510e-01,  1.3366e+00,  2.1208e+00,  ..., -3.4074e+00,\n",
       "            3.3552e+00,  1.1348e+00],\n",
       "          ...,\n",
       "          [ 7.6510e-01,  2.2651e+00, -7.2777e-01,  ..., -2.3192e+00,\n",
       "            1.9637e+00,  1.2951e+00],\n",
       "          [ 7.6510e-01,  8.8115e-01, -3.6339e+00,  ...,  9.9331e-01,\n",
       "            1.8200e+00,  1.0495e+00],\n",
       "          [ 1.5934e+00,  5.4095e+00, -1.6819e+00,  ...,  1.0336e+00,\n",
       "            2.1670e+00,  1.5093e+00]],\n",
       "\n",
       "         [[-1.4061e-01, -2.2798e+00, -2.2559e-01,  ...,  1.9657e+00,\n",
       "           -7.6030e-01, -1.2476e+00],\n",
       "          [ 5.1966e-01, -7.3937e-01,  1.1958e+00,  ...,  8.1173e+00,\n",
       "            4.7599e+00, -1.0400e+00],\n",
       "          [ 5.1966e-01, -1.0127e+00,  4.9610e+00,  ...,  1.5271e+01,\n",
       "            1.0350e+01, -3.9587e-01],\n",
       "          ...,\n",
       "          [ 5.1966e-01, -9.6167e-01,  8.3247e+00,  ...,  1.1473e+01,\n",
       "           -2.6154e+00, -6.4406e-01],\n",
       "          [ 1.1703e+00,  4.2737e+00,  9.0976e+00,  ...,  2.6381e+00,\n",
       "           -3.1757e-01,  5.5490e-01],\n",
       "          [ 3.5734e-01,  2.7356e+00, -6.3535e+00,  ..., -1.9896e+00,\n",
       "           -5.3220e-01, -8.2949e-02]],\n",
       "\n",
       "         [[-1.6231e+00, -2.1090e+00, -2.5484e+00,  ..., -6.1214e+00,\n",
       "           -3.2961e+00, -1.3742e+00],\n",
       "          [-1.2243e+00, -1.6109e+00,  2.4453e-02,  ...,  9.1423e-02,\n",
       "           -1.1642e+00, -9.6230e-01],\n",
       "          [-1.3143e+00, -5.8178e-02,  8.5742e+00,  ..., -8.1648e-01,\n",
       "            2.0821e-01, -1.0787e+00],\n",
       "          ...,\n",
       "          [-1.3143e+00, -2.5050e+00,  5.4890e+00,  ..., -5.2799e+00,\n",
       "           -2.2912e+00, -1.1635e+00],\n",
       "          [-1.3143e+00,  2.9010e+00,  8.8964e+00,  ..., -2.9161e+00,\n",
       "           -2.0027e+00, -1.1069e+00],\n",
       "          [-5.6735e-01,  4.5598e+00, -7.1532e+00,  ..., -9.4573e-01,\n",
       "           -2.3862e-01, -1.0093e-02]],\n",
       "\n",
       "         ...,\n",
       "\n",
       "         [[ 7.7449e-01,  1.3623e+00,  4.5356e-01,  ...,  4.7226e+00,\n",
       "            1.6087e+00,  1.1609e+00],\n",
       "          [ 4.7848e-01,  6.1131e-01,  9.5817e+00,  ..., -3.4976e+00,\n",
       "           -5.6173e+00,  9.1372e-01],\n",
       "          [ 1.5477e-01,  4.9730e+00,  5.5343e+00,  ..., -1.4488e+01,\n",
       "           -2.2616e+00,  9.1372e-01],\n",
       "          ...,\n",
       "          [ 1.5477e-01,  1.9709e+00,  4.6564e+00,  ..., -5.3842e+00,\n",
       "            2.8559e+00,  1.0861e+00],\n",
       "          [ 4.9507e-01,  3.4366e+00, -1.7218e-01,  ...,  3.2779e+00,\n",
       "            2.2230e+00,  1.4950e+00],\n",
       "          [ 4.7924e-01,  3.4816e-01, -5.1851e-01,  ...,  3.3102e+00,\n",
       "            8.8800e-01,  1.1648e+00]],\n",
       "\n",
       "         [[-1.0693e+00, -1.6576e+00,  9.4167e-02,  ..., -5.4136e+00,\n",
       "           -2.3883e+00, -8.0345e-01],\n",
       "          [ 6.7030e-01, -1.1148e+00, -1.1790e-01,  ...,  8.6183e+00,\n",
       "           -1.9107e+00, -1.9719e+00],\n",
       "          [ 5.4485e-01, -2.0106e+00,  6.1140e+00,  ...,  8.5359e+00,\n",
       "            1.2444e+00, -1.4575e+00],\n",
       "          ...,\n",
       "          [ 5.4485e-01,  1.0881e+00,  5.8879e+00,  ...,  3.0471e+00,\n",
       "            5.0503e+00, -1.4803e+00],\n",
       "          [ 5.4945e-01, -1.6805e+00, -6.9411e-01,  ...,  5.2093e+00,\n",
       "           -1.0792e+00, -1.1963e+00],\n",
       "          [ 1.7446e+00,  2.6683e+00, -1.2416e+01,  ...,  7.0205e+00,\n",
       "            7.1756e-01, -2.3726e-01]],\n",
       "\n",
       "         [[-6.3908e-01, -5.9794e-01, -5.3152e-01,  ..., -4.0632e+00,\n",
       "           -3.1303e+00,  1.8131e-01],\n",
       "          [-8.9029e-01, -1.6654e+00,  3.3071e-01,  ..., -3.1564e+00,\n",
       "            3.1645e-01, -2.9019e-01],\n",
       "          [-8.9029e-01, -2.2952e+00,  9.6246e+00,  ..., -1.8872e+00,\n",
       "            3.9356e-01, -2.9019e-01],\n",
       "          ...,\n",
       "          [-8.9029e-01, -1.3691e+00,  3.3728e+00,  ...,  9.5991e-01,\n",
       "           -1.9178e+00, -2.9019e-01],\n",
       "          [-8.9029e-01, -1.4249e+00,  1.0776e+01,  ...,  2.3782e+00,\n",
       "           -1.6256e+00, -2.9019e-01],\n",
       "          [-4.4392e-01,  6.7851e-01,  2.4906e+00,  ..., -1.4669e+00,\n",
       "           -1.1981e+00, -7.3638e-01]]],\n",
       "\n",
       "\n",
       "        [[[ 9.1886e-01,  2.5827e+00,  1.0109e+01,  ...,  3.7719e+00,\n",
       "            5.1185e+00,  5.4109e+00],\n",
       "          [ 1.1222e+00,  1.9095e+00, -6.7618e-03,  ..., -6.1176e+00,\n",
       "            5.1426e+00,  3.6280e+00],\n",
       "          [ 2.0380e+00,  3.6255e+00,  1.0636e+01,  ...,  1.5400e+01,\n",
       "            1.7848e+01,  5.5524e+00],\n",
       "          ...,\n",
       "          [ 7.2742e+00, -8.8896e+00,  2.5503e+01,  ...,  1.2765e+01,\n",
       "            4.3672e+00,  9.6147e-01],\n",
       "          [ 8.7967e+00,  1.4669e+01,  1.6131e+01,  ..., -1.3418e+01,\n",
       "           -6.1245e+00, -4.5425e-01],\n",
       "          [ 6.7402e-01,  4.0646e-01,  1.2143e+01,  ...,  8.6953e+00,\n",
       "            6.9641e+00,  2.1643e+00]],\n",
       "\n",
       "         [[-1.4061e-01, -1.6572e+00,  7.1324e-01,  ...,  5.7029e+00,\n",
       "            6.7238e-01,  2.5871e+00],\n",
       "          [ 5.1966e-01,  2.3012e+00,  1.4713e+00,  ...,  3.3516e+00,\n",
       "            9.4710e+00,  1.4985e+00],\n",
       "          [ 1.3735e+00,  9.6803e+00, -9.0439e+00,  ...,  5.2895e+00,\n",
       "            1.3536e+00, -6.6620e-01],\n",
       "          ...,\n",
       "          [-3.5218e+00, -8.5309e+00, -8.4755e+00,  ..., -2.9005e-01,\n",
       "            1.7366e+01,  1.2793e+01],\n",
       "          [-3.5250e-01, -1.0148e+01, -1.0064e+01,  ...,  5.5945e-01,\n",
       "            6.5255e+00, -2.6877e+00],\n",
       "          [ 1.7077e-01, -7.7900e-01, -3.7229e+00,  ..., -9.9368e+00,\n",
       "           -7.6408e+00, -1.9952e+00]],\n",
       "\n",
       "         [[-1.6231e+00, -2.2645e+00, -3.8458e+00,  ...,  7.1563e+00,\n",
       "            7.2778e+00, -1.0565e+00],\n",
       "          [-1.2243e+00,  7.5116e-01,  8.7122e+00,  ...,  8.7888e+00,\n",
       "            3.5049e-01, -8.6091e-01],\n",
       "          [-1.7029e+00,  5.9582e+00,  6.0318e+00,  ...,  1.8334e+00,\n",
       "           -5.8142e+00, -2.0851e+00],\n",
       "          ...,\n",
       "          [ 2.2960e+00, -2.4396e+00,  2.3066e+00,  ...,  1.4883e+01,\n",
       "            1.0620e+00,  9.6749e-01],\n",
       "          [-1.6046e+00, -3.1377e-01, -4.8829e+00,  ...,  3.0628e+00,\n",
       "           -7.6202e+00, -3.5980e-01],\n",
       "          [-5.8572e-01, -3.9489e-01, -2.3203e-01,  ..., -3.8407e+00,\n",
       "           -4.8194e+00, -1.0195e+00]],\n",
       "\n",
       "         ...,\n",
       "\n",
       "         [[ 5.4415e-01,  5.9437e-01,  2.4969e+00,  ...,  4.9453e+00,\n",
       "            3.9783e+00, -4.0477e-01],\n",
       "          [ 1.9582e-01,  6.7230e+00,  1.0020e+01,  ..., -4.7394e+00,\n",
       "           -1.1808e+01, -9.8300e-01],\n",
       "          [ 8.8817e-01,  4.3869e+00, -9.7954e+00,  ...,  1.5763e+00,\n",
       "           -2.5824e+00,  1.8434e+00],\n",
       "          ...,\n",
       "          [ 3.0506e+00, -3.7471e+00, -2.1677e-01,  ..., -4.3338e+00,\n",
       "           -1.3879e+01, -6.1342e-01],\n",
       "          [ 3.0010e+00,  8.5186e-02, -5.5245e-01,  ..., -5.8127e+00,\n",
       "            4.5671e-01,  3.9782e+00],\n",
       "          [ 1.6977e+00,  2.3944e+00,  3.4520e+00,  ...,  9.0103e+00,\n",
       "            3.3184e+00,  3.8009e+00]],\n",
       "\n",
       "         [[-1.0693e+00, -4.9674e-01,  4.2372e+00,  ...,  1.5663e+01,\n",
       "            1.1776e+01, -6.6109e-01],\n",
       "          [ 6.7030e-01,  2.8016e+00, -9.1724e-01,  ...,  2.8173e+00,\n",
       "            1.0002e+01, -3.0472e+00],\n",
       "          [ 5.5980e+00, -9.5414e-02,  5.7824e+00,  ...,  1.1396e+01,\n",
       "            6.4403e+00,  7.0162e+00],\n",
       "          ...,\n",
       "          [-1.0285e+01,  1.1463e+01,  1.0493e+01,  ..., -2.3183e-01,\n",
       "            2.0293e+01,  9.6143e-02],\n",
       "          [ 1.3667e+00, -1.0946e+01, -1.4908e-02,  ..., -5.3835e+00,\n",
       "            3.6491e+00,  6.4594e+00],\n",
       "          [ 2.2907e+00,  8.4894e-01, -3.3809e-01,  ..., -3.0967e+00,\n",
       "            8.9820e+00,  3.2038e+00]],\n",
       "\n",
       "         [[-6.3908e-01, -5.4460e-01, -7.5827e-01,  ..., -5.5294e+00,\n",
       "           -9.7931e+00, -2.4322e+00],\n",
       "          [-8.9029e-01, -1.2096e+00,  5.4733e+00,  ...,  1.9090e+01,\n",
       "            1.2041e+01,  8.9761e+00],\n",
       "          [-6.1795e-01,  2.8810e+00,  1.0319e+01,  ...,  3.7490e+00,\n",
       "           -7.8374e+00, -1.8381e+00],\n",
       "          ...,\n",
       "          [ 4.2251e+00,  5.2309e+00,  2.3315e+00,  ..., -2.8881e+00,\n",
       "           -4.5476e+00,  2.8131e+00],\n",
       "          [-4.9574e+00, -3.6509e+00,  6.3707e+00,  ...,  1.8811e+01,\n",
       "            7.2726e+00,  1.4496e+00],\n",
       "          [-5.7688e-01, -2.7369e+00, -5.0443e+00,  ..., -7.8841e+00,\n",
       "           -3.5043e+00, -1.1828e+00]]],\n",
       "\n",
       "\n",
       "        ...,\n",
       "\n",
       "\n",
       "        [[[ 1.4597e+00,  7.8674e+00,  9.0664e+00,  ...,  1.1781e+01,\n",
       "            9.9832e+00,  3.5096e+00],\n",
       "          [ 2.4794e+00,  4.0337e+00, -5.4372e+00,  ..., -1.5251e+01,\n",
       "           -8.6216e+00,  2.1897e+00],\n",
       "          [ 7.6254e+00,  8.1641e+00, -1.3258e+00,  ..., -5.2656e-01,\n",
       "           -2.2157e+00,  4.1607e-01],\n",
       "          ...,\n",
       "          [ 2.4191e+00, -5.8432e-01,  5.2608e+00,  ..., -3.3591e-01,\n",
       "            5.4070e-01,  1.9872e+00],\n",
       "          [ 5.3256e+00, -7.0196e+00, -1.7481e+01,  ..., -2.0646e+00,\n",
       "            8.0583e-01,  7.8925e-01],\n",
       "          [ 4.2087e+00,  1.6203e+01,  1.2232e+01,  ...,  7.7612e+00,\n",
       "            3.0943e+00,  1.6882e+00]],\n",
       "\n",
       "         [[ 3.0525e-02, -2.4932e-01,  4.0758e+00,  ..., -3.9978e+00,\n",
       "            1.0522e-01,  1.3965e+00],\n",
       "          [ 4.6483e-01, -2.1184e+00, -1.0489e+01,  ...,  2.0387e+00,\n",
       "            1.4391e+01,  2.2272e+00],\n",
       "          [ 5.3078e-01, -2.1746e+00, -4.3531e+00,  ...,  5.3404e+00,\n",
       "            1.2218e+01, -1.4959e+00],\n",
       "          ...,\n",
       "          [ 1.5248e+00, -3.5444e-01,  4.9496e+00,  ...,  7.4595e+00,\n",
       "            1.2164e+01, -6.3323e-01],\n",
       "          [ 2.5742e+00, -9.8060e+00, -1.7378e+00,  ...,  3.7662e+00,\n",
       "           -2.6952e+00, -4.2519e-01],\n",
       "          [ 7.1818e-02, -4.6903e+00, -1.2996e+01,  ..., -6.4588e+00,\n",
       "           -1.5443e+00, -3.5690e-01]],\n",
       "\n",
       "         [[-1.6907e+00, -2.4759e+00, -7.7402e+00,  ..., -1.8660e+00,\n",
       "           -1.3963e+00, -1.3044e+00],\n",
       "          [-1.7935e+00,  6.3816e+00,  7.9251e+00,  ..., -9.0762e+00,\n",
       "           -1.7415e+00, -1.1432e+00],\n",
       "          [ 3.6999e+00,  5.7085e+00, -8.6862e+00,  ..., -5.5326e+00,\n",
       "           -6.3758e+00, -9.1973e-01],\n",
       "          ...,\n",
       "          [-2.8318e-01,  5.4481e+00,  1.0469e+00,  ..., -3.3681e+00,\n",
       "           -1.4323e+00, -7.7584e-01],\n",
       "          [ 4.6846e+00, -4.0114e+00,  4.0640e+00,  ..., -6.9119e+00,\n",
       "           -2.1090e+00, -1.1210e+00],\n",
       "          [-9.2992e-01, -1.7508e+00, -4.1965e+00,  ..., -4.1913e+00,\n",
       "           -7.4050e-01, -2.4926e-02]],\n",
       "\n",
       "         ...,\n",
       "\n",
       "         [[ 9.1480e-02,  4.3756e-01,  5.5769e+00,  ...,  2.1058e+00,\n",
       "            1.0754e-01,  2.5904e-01],\n",
       "          [ 3.5021e+00,  9.3252e+00,  7.9690e+00,  ..., -8.6704e+00,\n",
       "           -1.1116e+01,  3.4355e-01],\n",
       "          [ 3.8041e+00, -8.4374e-01,  1.2274e+01,  ..., -1.2406e+01,\n",
       "           -6.8586e+00,  3.2136e+00],\n",
       "          ...,\n",
       "          [ 4.5068e+00,  4.2572e+00, -6.1304e+00,  ..., -6.7117e+00,\n",
       "           -2.6955e+00,  1.0584e+00],\n",
       "          [ 4.0988e+00, -2.1668e-02, -4.0542e+00,  ..., -2.1062e+00,\n",
       "            4.1901e+00,  1.8700e+00],\n",
       "          [ 1.0981e+00,  4.1302e+00,  1.1661e+01,  ...,  1.9741e+00,\n",
       "            3.1224e+00,  1.1594e+00]],\n",
       "\n",
       "         [[-1.1819e+00,  2.1807e+00, -1.4085e+00,  ...,  9.8314e+00,\n",
       "           -1.0421e+00, -1.7211e+00],\n",
       "          [ 1.1599e-01, -2.4344e+00,  5.9290e-01,  ..., -2.0983e+00,\n",
       "            1.6433e+01, -2.7067e+00],\n",
       "          [ 9.4413e-01, -6.7379e+00, -1.0971e+01,  ...,  3.7858e-01,\n",
       "            1.0883e+00,  2.5767e+00],\n",
       "          ...,\n",
       "          [ 8.9398e-02,  1.4220e+01,  1.6459e+01,  ...,  2.7631e+01,\n",
       "            3.6093e+00, -1.5047e+00],\n",
       "          [ 1.6637e+00, -9.7687e+00, -6.2420e+00,  ..., -4.7529e+00,\n",
       "            5.7951e+00, -1.0205e+00],\n",
       "          [ 2.7562e+00, -3.3168e+00, -6.0842e+00,  ...,  4.3162e+00,\n",
       "            4.2513e+00, -4.2853e-01]],\n",
       "\n",
       "         [[-7.4110e-01, -5.4309e-01, -3.4223e+00,  ..., -7.7572e+00,\n",
       "           -9.2975e+00, -8.1836e-01],\n",
       "          [-1.6098e+00,  1.1534e+00,  1.8803e+00,  ...,  1.4442e+01,\n",
       "            2.9994e-01,  2.9231e+00],\n",
       "          [ 3.7597e-01,  4.8839e+00,  8.7989e+00,  ..., -1.2387e+01,\n",
       "           -1.4296e+00,  8.0742e-02],\n",
       "          ...,\n",
       "          [-3.3735e+00,  1.7502e+00, -1.3700e+01,  ..., -1.0201e+01,\n",
       "            1.8543e+00, -2.9019e-01],\n",
       "          [ 3.7041e+00,  7.8037e+00,  1.5095e+01,  ...,  4.5831e+00,\n",
       "            6.0247e-01, -2.9019e-01],\n",
       "          [-9.8602e-02, -3.1887e+00,  4.6861e+00,  ..., -2.2991e+00,\n",
       "           -1.7139e+00, -7.9379e-01]]],\n",
       "\n",
       "\n",
       "        [[[ 8.1948e-01,  2.0607e+00,  3.9677e+00,  ...,  4.2624e+00,\n",
       "            1.6557e-01,  1.0316e+00],\n",
       "          [ 9.8075e-01,  3.2461e+00,  7.0590e+00,  ...,  1.1153e+01,\n",
       "            1.0328e+01,  3.4709e+00],\n",
       "          [ 1.4151e+00, -1.8468e-01, -6.2001e+00,  ..., -7.3565e+00,\n",
       "           -9.8254e+00,  1.7957e+00],\n",
       "          ...,\n",
       "          [ 3.0174e+00,  2.5161e+00,  2.7053e+00,  ..., -8.2103e+00,\n",
       "            1.2741e+00,  5.1386e-01],\n",
       "          [ 3.4354e+00, -3.8874e+00, -2.5790e+00,  ..., -4.5599e+00,\n",
       "            2.9193e-01,  9.4346e-01],\n",
       "          [ 3.4699e+00,  1.0368e+01,  4.9207e+00,  ...,  4.2318e+00,\n",
       "            2.9604e+00,  1.8587e+00]],\n",
       "\n",
       "         [[-1.4061e-01, -2.2798e+00,  9.4851e-01,  ...,  3.1411e+00,\n",
       "            2.5482e+00,  7.5043e-01],\n",
       "          [ 7.3483e-01,  1.4241e+00,  7.0664e-01,  ..., -5.8489e+00,\n",
       "            9.6877e+00,  5.6549e+00],\n",
       "          [ 2.8813e+00,  7.3944e+00,  2.2560e+00,  ..., -9.0398e-01,\n",
       "            1.7793e+01,  9.9461e+00],\n",
       "          ...,\n",
       "          [ 7.5885e+00, -1.2976e+00,  1.2036e+01,  ..., -5.5135e+00,\n",
       "            8.0685e+00, -1.4355e+00],\n",
       "          [ 1.3330e+00, -1.5634e+01, -1.0292e+01,  ...,  1.9288e+00,\n",
       "           -4.4735e-01, -1.4122e+00],\n",
       "          [-6.3814e-02, -6.3412e+00, -1.0052e+01,  ...,  4.9618e-01,\n",
       "           -1.6590e+00, -5.3724e-01]],\n",
       "\n",
       "         [[-1.6231e+00, -2.1090e+00, -2.6804e+00,  ..., -2.8993e+00,\n",
       "           -4.5132e+00, -2.1108e+00],\n",
       "          [-1.2826e+00, -2.9751e+00,  1.6017e+00,  ...,  7.8797e+00,\n",
       "            3.4185e+00,  1.7359e-01],\n",
       "          [-2.8556e+00,  6.4921e+00,  8.2740e+00,  ..., -2.2767e-01,\n",
       "            1.0284e+00,  1.3577e+00],\n",
       "          ...,\n",
       "          [ 3.8460e+00,  1.8224e+00, -4.9017e+00,  ..., -2.9198e+00,\n",
       "           -4.1963e+00, -5.5930e-01],\n",
       "          [ 2.1223e+00, -3.6027e+00, -5.7840e-01,  ..., -1.0272e+01,\n",
       "           -4.9967e+00, -1.6419e+00],\n",
       "          [ 5.9024e-01, -8.7185e-01, -8.4708e+00,  ..., -3.7328e+00,\n",
       "           -9.8082e-01, -1.3626e-01]],\n",
       "\n",
       "         ...,\n",
       "\n",
       "         [[ 6.7382e-01,  8.3662e-01,  1.4726e+00,  ...,  4.3035e+00,\n",
       "            3.1334e+00,  7.8287e-01],\n",
       "          [ 9.7706e-02,  1.4632e+00,  1.2507e+01,  ..., -6.3170e+00,\n",
       "           -7.7442e+00, -3.1258e+00],\n",
       "          [ 2.0817e+00,  1.0142e+01,  6.7836e+00,  ..., -9.4221e+00,\n",
       "           -8.9549e+00, -1.4311e+00],\n",
       "          ...,\n",
       "          [ 4.9302e-01, -8.5320e+00, -6.1730e+00,  ..., -1.5927e+00,\n",
       "           -1.1056e+01,  2.5522e+00],\n",
       "          [ 5.6407e-01,  4.1054e+00, -1.9254e+00,  ..., -3.4985e+00,\n",
       "            1.7908e+00,  4.1408e+00],\n",
       "          [-5.5359e-02, -1.6422e+00, -2.4069e+00,  ...,  1.6301e+00,\n",
       "            3.0055e+00,  1.5756e+00]],\n",
       "\n",
       "         [[-1.0693e+00, -1.4562e+00, -4.3528e-01,  ...,  5.9481e+00,\n",
       "           -4.6261e+00, -1.3964e+00],\n",
       "          [ 6.2617e-01,  2.5746e-01, -3.6364e+00,  ...,  2.0282e+01,\n",
       "            7.6038e+00, -2.7827e+00],\n",
       "          [ 3.1942e-01, -1.6663e+00,  5.9543e-01,  ...,  5.2299e+00,\n",
       "            1.7720e+01,  1.5953e+00],\n",
       "          ...,\n",
       "          [ 1.2118e+00,  1.0234e+01,  4.7269e+00,  ..., -1.0298e+01,\n",
       "            5.5896e+00,  4.1660e+00],\n",
       "          [ 4.2503e+00,  5.3261e+00,  1.2572e+01,  ..., -8.9450e+00,\n",
       "            4.6122e+00,  2.2519e+00],\n",
       "          [ 3.7982e+00, -6.8338e+00, -4.6712e-01,  ...,  2.4884e+00,\n",
       "            4.4759e+00, -8.2890e-01]],\n",
       "\n",
       "         [[-6.3908e-01, -5.9794e-01, -6.7681e-01,  ..., -4.7779e+00,\n",
       "           -5.5274e+00, -8.2495e-01],\n",
       "          [-1.1739e+00, -2.0655e+00, -3.7150e+00,  ...,  1.1750e+01,\n",
       "            2.0130e+00,  2.1333e-01],\n",
       "          [-1.8900e+00,  2.6626e+00,  2.5566e+00,  ...,  2.4087e+01,\n",
       "            1.4785e+00,  1.7353e+00],\n",
       "          ...,\n",
       "          [ 1.1540e+01,  3.0994e+00, -4.0591e+00,  ..., -1.3894e+00,\n",
       "            9.1653e-01, -5.6811e-01],\n",
       "          [-1.9252e+00, -3.0492e+00,  3.7247e+00,  ...,  3.1878e+00,\n",
       "            1.8484e+00, -3.9202e-01],\n",
       "          [-4.0042e-01, -4.5491e+00,  7.5820e+00,  ..., -1.0742e+00,\n",
       "           -1.6029e+00, -8.3086e-01]]],\n",
       "\n",
       "\n",
       "        [[[ 1.2397e+00,  3.6625e+00,  5.9191e+00,  ...,  2.4507e+00,\n",
       "            1.2424e+00,  2.2864e+00],\n",
       "          [ 1.9372e+00,  5.7254e+00,  6.5871e+00,  ...,  4.7255e+00,\n",
       "            4.2078e+00,  4.8902e+00],\n",
       "          [ 5.8128e+00,  1.0830e+01, -2.2632e+00,  ..., -3.7204e+00,\n",
       "           -2.9312e+00,  7.1450e-01],\n",
       "          ...,\n",
       "          [ 2.3023e-01, -2.7467e-01, -2.4121e+00,  ..., -7.4889e+00,\n",
       "           -1.6143e+00,  5.3383e+00],\n",
       "          [ 9.3187e-01,  3.2764e+00, -1.6166e+01,  ...,  2.8729e+00,\n",
       "           -4.0394e+00,  6.6408e-01],\n",
       "          [ 2.8462e+00,  7.0457e+00,  1.1551e+01,  ...,  6.7335e+00,\n",
       "            3.2870e+00,  1.8414e+00]],\n",
       "\n",
       "         [[-8.4683e-02, -2.6644e-02,  2.3848e+00,  ...,  2.4937e+00,\n",
       "            1.9548e+00, -4.3188e-01],\n",
       "          [ 4.2729e-01, -1.8083e+00, -8.5080e+00,  ..., -1.8910e-01,\n",
       "            1.4478e+01, -8.0130e-02],\n",
       "          [ 4.7105e-01, -1.0913e+00, -3.5947e+00,  ...,  1.8011e+01,\n",
       "            2.0130e+01,  3.4081e-01],\n",
       "          ...,\n",
       "          [ 5.1966e-01,  8.3619e+00, -4.8078e+00,  ..., -9.6719e+00,\n",
       "            1.4558e+01,  6.8786e-01],\n",
       "          [ 1.1703e+00,  1.9472e+00, -6.6360e+00,  ...,  2.7473e+00,\n",
       "            5.8016e+00, -1.6875e-01],\n",
       "          [ 3.5734e-01, -4.9082e-01, -1.0978e+01,  ..., -2.7491e-01,\n",
       "           -3.0173e+00, -1.1476e+00]],\n",
       "\n",
       "         [[-1.6596e+00, -2.3356e+00, -4.7421e+00,  ..., -3.3838e+00,\n",
       "           -2.7737e+00, -1.3877e+00],\n",
       "          [-1.4208e+00,  2.5645e+00,  9.3143e+00,  ...,  5.2632e+00,\n",
       "            1.8230e+00, -4.9820e-02],\n",
       "          [ 8.6458e-01,  5.6953e+00,  2.3766e+00,  ..., -7.4995e-01,\n",
       "           -2.6229e+00,  6.2263e-03],\n",
       "          ...,\n",
       "          [-1.3143e+00,  9.3144e+00,  5.5254e+00,  ..., -2.3657e+00,\n",
       "           -2.3085e+00,  1.5514e-01],\n",
       "          [-1.3143e+00,  2.4033e+00,  3.1350e+00,  ..., -8.9161e+00,\n",
       "           -5.0998e+00,  3.2816e-01],\n",
       "          [-5.6735e-01,  1.7941e+00, -4.4750e+00,  ..., -4.1355e+00,\n",
       "           -2.2820e+00, -4.7237e-01]],\n",
       "\n",
       "         ...,\n",
       "\n",
       "         [[ 3.9766e-01,  1.5603e+00,  4.2070e+00,  ...,  3.8241e+00,\n",
       "            2.2047e+00,  1.0037e+00],\n",
       "          [ 1.7000e+00,  9.0207e+00,  1.3993e+00,  ..., -5.8957e+00,\n",
       "           -7.2716e+00,  5.4003e-01],\n",
       "          [ 3.0472e+00,  7.2140e+00, -1.1548e+01,  ..., -1.0465e+01,\n",
       "           -1.4650e+00,  2.4624e+00],\n",
       "          ...,\n",
       "          [-8.4657e-02,  6.1418e+00, -1.6766e+00,  ..., -8.1409e+00,\n",
       "           -6.3109e+00,  6.0162e-01],\n",
       "          [-6.8602e-02,  1.4040e+00,  5.0437e+00,  ..., -6.5978e+00,\n",
       "            6.6365e-01,  3.3896e+00],\n",
       "          [ 2.5006e-01, -2.3124e+00,  1.0031e-01,  ...,  4.7346e+00,\n",
       "            3.8683e+00,  2.2971e+00]],\n",
       "\n",
       "         [[-1.0939e+00,  3.6181e+00,  2.6996e+00,  ...,  1.2218e+00,\n",
       "           -2.1937e+00, -9.1266e-01],\n",
       "          [ 5.0889e-01,  6.4707e+00,  1.6968e+01,  ...,  1.2903e+01,\n",
       "           -1.7900e+00, -2.0676e+00],\n",
       "          [ 5.7737e-01, -2.4859e+00,  1.3591e+01,  ...,  6.5165e+00,\n",
       "            5.7298e+00, -7.3977e-01],\n",
       "          ...,\n",
       "          [ 5.4485e-01,  2.5303e+00,  6.1027e+00,  ...,  2.8014e+01,\n",
       "            9.4049e+00, -1.6024e+00],\n",
       "          [ 5.4945e-01, -1.9040e+00, -6.9585e+00,  ..., -7.3540e+00,\n",
       "            6.6405e+00,  3.7144e-02],\n",
       "          [ 1.7446e+00,  2.7929e+00, -1.6329e+01,  ...,  2.8719e+00,\n",
       "            7.7400e+00, -1.5197e+00]],\n",
       "\n",
       "         [[-7.4632e-01, -5.6547e-01, -1.3672e+00,  ..., -5.5137e+00,\n",
       "           -4.6331e+00,  7.8877e-02],\n",
       "          [-1.1200e+00,  2.8001e+00,  3.4938e+00,  ...,  5.4336e+00,\n",
       "            3.8744e+00,  7.7388e-01],\n",
       "          [-1.0488e+00,  6.1194e+00,  1.1395e+01,  ...,  6.7426e+00,\n",
       "            3.5347e+00,  2.3834e-02],\n",
       "          ...,\n",
       "          [-8.9029e-01,  6.1603e+00,  2.6456e+00,  ...,  3.3504e+00,\n",
       "            2.6925e+00,  9.5920e-01],\n",
       "          [-8.9029e-01,  7.5309e+00, -1.7873e+00,  ...,  6.8752e+00,\n",
       "            2.1903e+00,  1.8757e-01],\n",
       "          [-4.4392e-01, -1.3331e+00,  6.0300e+00,  ..., -2.5534e+00,\n",
       "           -2.7309e+00, -8.5111e-01]]]], device='cuda:0',\n",
       "       grad_fn=<MaxPool2DWithIndicesBackward>)"
      ]
     },
     "execution_count": 28,
     "metadata": {},
     "output_type": "execute_result"
    }
   ],
   "source": [
    "backbone(data)"
   ]
  },
  {
   "cell_type": "code",
   "execution_count": 126,
   "metadata": {},
   "outputs": [],
   "source": [
    "\"\"\"Creating a data loading class.\"\"\"\n",
    "\n",
    "import re\n",
    "import os\n",
    "import torch\n",
    "import pandas as pd\n",
    "from skimage import io, transform\n",
    "import numpy as np\n",
    "import matplotlib.pyplot as plt\n",
    "from torchvision import transforms, utils\n",
    "from torch.utils.data import DataLoader, Dataset\n",
    "\n",
    "class GeneratedData(Dataset):\n",
    "    \"\"\"Loading the images and bounding boxes.\"\"\"\n",
    "    \n",
    "    def __init__(self, transform=None):\n",
    "        \"\"\"\n",
    "        @param callable transform\n",
    "        \"\"\"\n",
    "        \n",
    "        self.data = pd.read_csv('../data/image_data.csv')\n",
    "        self.transform = transform\n",
    "        self.parser = re.compile(\"\\(.*?\\)\")\n",
    "    def __len__(self):\n",
    "        return len(self.data)\n",
    "    \n",
    "    def __getitem__(self, idx):\n",
    "        if torch.is_tensor(idx):\n",
    "            idx = idx.tolist()\n",
    "            \n",
    "        img_name = self.data.iloc[idx]['filename']\n",
    "        \n",
    "        image = io.imread(f\"../data/{img_name}\")\n",
    "        boxes = self.data.iloc[idx]['boxes']\n",
    "        boxes = np.array([[int(j) for j in i.strip(')()').split(',')] for i in self.parser.findall(boxes)])\n",
    "        \n",
    "        labels = self.data.iloc[idx]['labels']\n",
    "        labels = np.array([int(i) for i in labels if i.isdigit()])\n",
    "        \n",
    "        sample = {'image': image,\n",
    "                  'labels': labels,\n",
    "                  'boxes': boxes}\n",
    "        \n",
    "        if self.transform:\n",
    "            sample = self.transform(sample)\n",
    "            \n",
    "        return sample\n"
   ]
  },
  {
   "cell_type": "code",
   "execution_count": 127,
   "metadata": {},
   "outputs": [],
   "source": [
    "data = GeneratedData()"
   ]
  },
  {
   "cell_type": "code",
   "execution_count": 128,
   "metadata": {},
   "outputs": [],
   "source": [
    "from matplotlib.collections import PatchCollection\n",
    "from matplotlib.patches import Rectangle"
   ]
  },
  {
   "cell_type": "code",
   "execution_count": 130,
   "metadata": {},
   "outputs": [
    {
     "name": "stdout",
     "output_type": "stream",
     "text": [
      "0 (40, 200) (5, 4) [7 2 0 1 9]\n",
      "1 (40, 200) (4, 4) [0 5 7 9]\n",
      "2 (40, 200) (4, 4) [7 3 7 9]\n",
      "3 (40, 200) (1, 4) [3]\n"
     ]
    },
    {
     "data": {
      "image/png": "[encoded data removed]",
      "text/plain": [
       "<Figure size 1440x1440 with 4 Axes>"
      ]
     },
     "metadata": {
      "needs_background": "light"
     },
     "output_type": "display_data"
    }
   ],
   "source": [
    "fig = plt.figure(figsize=(20,20))\n",
    "n = 3\n",
    "for i in range(len(data)):\n",
    "    sample = data[i]\n",
    "\n",
    "    print(i, sample['image'].shape, sample['boxes'].shape, sample['labels'])\n",
    "\n",
    "    ax = plt.subplot(1, n+1, i + 1)\n",
    "    plt.tight_layout()\n",
    "    ax.set_title('Sample #{}'.format(i))\n",
    "    ax.axis('off')\n",
    "    ax.imshow(sample['image'])\n",
    "    for box in sample['boxes']:\n",
    "        box = Rectangle(xy=(box[0],box[1]), width= box[3], height=box[2], facecolor='none', edgecolor='r')\n",
    "        ax.add_patch(box)\n",
    "    if i == n:\n",
    "        plt.show()\n",
    "        break"
   ]
  },
  {
   "cell_type": "code",
   "execution_count": null,
   "metadata": {},
   "outputs": [],
   "source": []
  }
 ],
 "metadata": {
  "file_extension": ".py",
  "kernelspec": {
   "display_name": "Python 3",
   "language": "python",
   "name": "python3"
  },
  "language_info": {
   "codemirror_mode": {
    "name": "ipython",
    "version": 3
   },
   "file_extension": ".py",
   "mimetype": "text/x-python",
   "name": "python",
   "nbconvert_exporter": "python",
   "pygments_lexer": "ipython3",
   "version": "3.7.3"
  },
  "mimetype": "text/x-python",
  "name": "python",
  "npconvert_exporter": "python",
  "pygments_lexer": "ipython3",
  "version": 3
 },
 "nbformat": 4,
 "nbformat_minor": 2
}
